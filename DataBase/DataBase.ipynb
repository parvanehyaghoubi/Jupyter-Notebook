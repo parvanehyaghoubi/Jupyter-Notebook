{
 "cells": [
  {
   "cell_type": "markdown",
   "id": "f9344999-ecb8-4b6e-a91e-61f8deccac9a",
   "metadata": {},
   "source": [
    "![sql](https://pngimg.com/d/mysql_PNG31.png)"
   ]
  },
  {
   "cell_type": "markdown",
   "id": "f829ebe2-51f4-49fa-a568-85f2f705a6b7",
   "metadata": {},
   "source": [
    "# DataBase and MySQL"
   ]
  },
  {
   "cell_type": "markdown",
   "id": "17181761-d7ae-41e7-9e39-38a0dbc3d3c9",
   "metadata": {},
   "source": [
    "MySQL is a very popular open-source **relational database management system** (RDBMS)."
   ]
  },
  {
   "cell_type": "markdown",
   "id": "aec61848-81ab-4203-a711-456abf7d8ea7",
   "metadata": {},
   "source": [
    "## What is MySQL?"
   ]
  },
  {
   "cell_type": "markdown",
   "id": "4bd0d60d-6db0-46cb-b757-abc82dbf3f37",
   "metadata": {},
   "source": [
    "- MySQL is a relational database management system\n",
    "- MySQL is open-source\n",
    "- MySQL is free\n",
    "- MySQL is ideal for both small and large applications\n",
    "- MySQL is very fast, reliable, scalable, and easy to use\n",
    "- MySQL is cross-platform\n",
    "- MySQL is compliant with the ANSI SQL standard\n",
    "- MySQL was first released in 1995\n",
    "- MySQL is developed, distributed, and supported by Oracle Corporation\n",
    "- MySQL is named after co-founder Monty Widenius's daughter: My"
   ]
  },
  {
   "cell_type": "markdown",
   "id": "76d8129e-92b1-49f3-8ca0-a0e963facb9d",
   "metadata": {},
   "source": [
    "## Show Data On Your Web Site"
   ]
  },
  {
   "cell_type": "markdown",
   "id": "6e90efb8-f5c2-418a-95c8-49a96bf593d4",
   "metadata": {},
   "source": [
    "To build a web site that shows data from a database, you will need:\n",
    "\n",
    "- An RDBMS database program (like MySQL)\n",
    "- A server-side scripting language, like PHP\n",
    "- To use SQL to get the data you want\n",
    "- To use HTML / CSS to style the page"
   ]
  },
  {
   "cell_type": "markdown",
   "id": "e3e7069e-b16a-45f5-b709-deaec82307f0",
   "metadata": {},
   "source": [
    "**There are 2 types of databases:**\n",
    "- Relational DBMS/DB(SQL): MySQL, Sqlite, Oracle, Postgresql\n",
    "- Non-Relational DB(No-SQL): MogoDB, FireBase"
   ]
  },
  {
   "cell_type": "markdown",
   "id": "c99131af-ee1c-45ca-b46b-c9b18f1e5c98",
   "metadata": {},
   "source": [
    "## What is RDBMS?"
   ]
  },
  {
   "cell_type": "markdown",
   "id": "0ee9c9d3-3802-4cc5-a227-96808be20540",
   "metadata": {},
   "source": [
    "RDBMS stands for Relational Database Management System.\n",
    "\n",
    "- RDBMS is a program used to maintain a relational database.\n",
    "\n",
    "- RDBMS is the basis for all modern database systems such as MySQL, Microsoft SQL Server, Oracle, and Microsoft Access.\n",
    "\n",
    "- RDBMS uses SQL queries to access the data in the database."
   ]
  },
  {
   "cell_type": "markdown",
   "id": "62cd4140-c7fb-4f7f-a64c-c74d9ba08bb3",
   "metadata": {},
   "source": [
    "## What is a Database Table?"
   ]
  },
  {
   "cell_type": "markdown",
   "id": "29fc495d-03c3-48ee-a6f7-66e7edcf25c6",
   "metadata": {},
   "source": [
    "- A table is a collection of related data entries, and it consists of columns and rows.\n",
    "\n",
    "- A column holds specific information about every record in the table.\n",
    "\n",
    "- A record (or row) is each individual entry that exists in a table."
   ]
  },
  {
   "cell_type": "markdown",
   "id": "0eb212fd-1a34-498c-a9e1-fe3b46119969",
   "metadata": {},
   "source": [
    "| CustomerID |\tCustomerName |\tContactName |\tAddress\tCity |\tPostalCode |\tCountry\n",
    "| :- | :- | :- | :- | :- | :- |\n",
    "| 1 | Alfreds Futterkiste |\tMaria Anders |\tObere Str. 57 |\tBerlin\t12209 |\tGermany |\n",
    "| 2 |\tAna Trujillo Emparedados y helados |\tAna Trujillo |\tAvda. de la Constitución 2222 |\tMéxico D.F.\t05021 |\tMexico |\n",
    "| 3 |\tAntonio Moreno | Taquería\tAntonio Moreno |\tMataderos 2312 |\tMéxico D.F.\t0502 |\tMexico |\n",
    "| 4 | Around the Horn |\tThomas Hardy |\t120 Hanover Sq.\tLondon |\tWA1 1DP |\tUK |\n",
    "| 5 |\tBerglunds snabbköp |\tChristina Berglund |\tBerguvsvägen 8\tLuleå |\tS-958 22 |\tSweden |"
   ]
  },
  {
   "cell_type": "markdown",
   "id": "e34ab771-10ef-4641-9e80-8fb1b9b3717e",
   "metadata": {},
   "source": [
    "## What is a Relational Database?"
   ]
  },
  {
   "cell_type": "markdown",
   "id": "9ba507e2-5f88-4dfe-af82-df6e45b8aa5d",
   "metadata": {},
   "source": [
    "A relational database defines database relationships in the form of tables. The tables are related to each other - based on data common to each. Look at the following three tables \"Customers\", \"Orders\", and \"Shippers\" from the Northwind database:\n",
    "\n",
    "**Customers Table**"
   ]
  },
  {
   "cell_type": "markdown",
   "id": "7ccf0477-8bf2-487a-97e4-ea79fabf2a59",
   "metadata": {},
   "source": [
    "| CustomerID |\tCustomerName |\tContactName |\tAddress\tCity |\tPostalCode |\tCountry\n",
    "| :- | :- | :- | :- | :- | :- |\n",
    "| 1 | Alfreds Futterkiste |\tMaria Anders |\tObere Str. 57 |\tBerlin\t12209 |\tGermany |\n",
    "| 2 |\tAna Trujillo Emparedados y helados |\tAna Trujillo |\tAvda. de la Constitución 2222 |\tMéxico D.F.\t05021 |\tMexico |\n",
    "| 3 |\tAntonio Moreno | Taquería\tAntonio Moreno |\tMataderos 2312 |\tMéxico D.F.\t0502 |\tMexico |\n",
    "| 4 | Around the Horn |\tThomas Hardy |\t120 Hanover Sq.\tLondon |\tWA1 1DP |\tUK |\n",
    "| 5 |\tBerglunds snabbköp |\tChristina Berglund |\tBerguvsvägen 8\tLuleå |\tS-958 22 |\tSweden |"
   ]
  },
  {
   "cell_type": "markdown",
   "id": "424b61da-dbea-469f-972f-7a7e1d49f19c",
   "metadata": {},
   "source": [
    "The relationship between the \"Customers\" table and the \"Orders\" table is the CustomerID column:\n",
    "\n",
    "**Orders Table**"
   ]
  },
  {
   "cell_type": "markdown",
   "id": "75f89086-ba6e-4de4-a07e-072e6a3a4839",
   "metadata": {},
   "source": [
    "|OrderID |\tCustomerID |\tEmployeeID |\tOrderDate |\tShipperID |\n",
    "| :- | :- | :- | :- | :- | \n",
    "|10278 |   5 |\t8 |\t1996-08-12 |\t2 |\n",
    "|10280 |\t5 |\t2 |\t1996-08-14 |\t1 |\n",
    "|10308 |\t2 |\t7 |\t1996-09-18 |\t3 |\n",
    "|10355 |   4 |\t6 |\t1996-11-15 |\t1 |\n",
    "|10365 |\t3 |\t3 |\t1996-11-27 |\t2 |\n",
    "|10383 |\t4 |\t8 |\t1996-12-16 |\t3 |\n",
    "|10384 |\t5 |\t3 |\t1996-12-16 |\t3 |"
   ]
  },
  {
   "cell_type": "markdown",
   "id": "2d148539-c8d5-4ff6-8629-e813cb94a182",
   "metadata": {},
   "source": [
    "The relationship between the \"Orders\" table and the \"Shippers\" table is the ShipperID column:\n",
    "\n",
    "**Shippers Table**"
   ]
  },
  {
   "cell_type": "markdown",
   "id": "6afc0d7a-38aa-4528-a83d-5aa5cebbb67f",
   "metadata": {},
   "source": [
    "| ShipperID |\tShipperName |\tPhone |\n",
    "| :- | :- | :- |\n",
    "| 1 |\tSpeedy Express |\t(503) 555-9831 |\n",
    "| 2 |\tUnited Package |\t(503) 555-3199 |\n",
    "| 3 |\tFederal Shipping |\t(503) 555-9931 |"
   ]
  },
  {
   "cell_type": "markdown",
   "id": "b2a2533e-0e64-4b74-a405-abee0d4f04da",
   "metadata": {},
   "source": [
    "**At first you should install MySQL Community and Workbench**"
   ]
  },
  {
   "cell_type": "markdown",
   "id": "6ffe760b-9401-49b9-b139-8f476e16ec0e",
   "metadata": {},
   "source": [
    "![sql](https://learn.microsoft.com/en-us/azure/mysql/single-server/media/connect-workbench/3-workbench-sql-tab.png)"
   ]
  },
  {
   "cell_type": "markdown",
   "id": "bd551155-a133-4a4a-85da-e2a1a0468357",
   "metadata": {},
   "source": [
    "**Keep in Mind That...**\n",
    "- SQL keywords are `NOT case sensitive`: `select` is the same as `SELECT`"
   ]
  },
  {
   "cell_type": "markdown",
   "id": "51c882db-c4ff-4895-b4ea-174f78227fd6",
   "metadata": {},
   "source": [
    "## 4 operation"
   ]
  },
  {
   "cell_type": "markdown",
   "id": "93aa4bc7-8139-4a2d-9065-532f71874a33",
   "metadata": {},
   "source": [
    "**CRUD**\n",
    "\n",
    "`C`: Create\n",
    "\n",
    "`R`: REad/Retrieve\n",
    "\n",
    "`U`: Update\n",
    "\n",
    "`D`: Delete"
   ]
  },
  {
   "cell_type": "markdown",
   "id": "09bf5f8d-145c-49e8-8bd7-dc67acd1ad57",
   "metadata": {},
   "source": [
    "## MySQL CREATE DATABASE Statement"
   ]
  },
  {
   "cell_type": "markdown",
   "id": "d9272343-8305-4eb7-b39b-ec509e986de8",
   "metadata": {},
   "source": [
    "The `CREATE DATABASE` statement is used to create a new SQL database.\n",
    "\n",
    "- Syntax\n",
    "```sql\n",
    "CREATE DATABASE databasename;\n",
    "```\n",
    "- Example\n",
    "```sql\n",
    "CREATE DATABASE testDB;\n",
    "```"
   ]
  },
  {
   "cell_type": "markdown",
   "id": "1b289783-77a0-4366-93e1-e72780f47820",
   "metadata": {},
   "source": [
    "## MySQL DROP DATABASE Statement"
   ]
  },
  {
   "cell_type": "markdown",
   "id": "8c706254-4ece-4f51-b212-90cd2624a5c8",
   "metadata": {},
   "source": [
    "The `DROP DATABASE` statement is used to drop an existing SQL database.\n",
    "\n",
    "- Syntax\n",
    "```sql\n",
    "DROP DATABASE databasename;\n",
    "```\n",
    "- Example\n",
    "```sql\n",
    "DROP DATABASE testDB;\n",
    "```"
   ]
  },
  {
   "cell_type": "markdown",
   "id": "2570a26f-bfc0-4537-9e3a-88bfb00742b2",
   "metadata": {},
   "source": [
    "## MySQL CREATE TABLE Statement"
   ]
  },
  {
   "cell_type": "markdown",
   "id": "6b16fba6-c6a8-4cf4-add9-76f3e57c40dd",
   "metadata": {},
   "source": [
    "The `CREATE TABLE` statement is used to create a new table in a database.\n",
    "\n",
    "- Syntax\n",
    "```sql\n",
    "CREATE TABLE table_name (\n",
    "    column1 datatype,\n",
    "    column2 datatype,\n",
    "    column3 datatype,\n",
    "   ....\n",
    ");\n",
    "```\n",
    "The `column` parameters specify the names of the columns of the table.\n",
    "The `datatype` parameter specifies the type of data the column can hold (e.g. varchar, integer, date, etc.).\n",
    "\n",
    "- Example\n",
    "\n",
    "The following example creates a `table` called \"Persons\" that contains five columns: PersonID, LastName, FirstName, Address, and City:\n",
    "```sql\n",
    "CREATE TABLE Persons (\n",
    "    PersonID int,\n",
    "    LastName varchar(255),\n",
    "    FirstName varchar(255),\n",
    "    Address varchar(255),\n",
    "    City varchar(255)\n",
    ");\n",
    "```\n",
    "The `PersonID` column is of type int and will hold an integer.\n",
    "The `LastName`, `FirstName`, `Address`, and `City` columns are of type varchar and will hold characters, and the maximum length for these fields is 255 characters.\n",
    "\n",
    "The empty \"Persons\" table will now look like this:\n",
    "|PersonID|\tLastName|\tFirstName|\tAddress\tCity|\n",
    "| --- | --- | --- | --- |\n",
    "|     |     |     |     |\n",
    "|     |     |     |     |"
   ]
  },
  {
   "cell_type": "markdown",
   "id": "b5d29a0f-f640-4c53-a9d3-1d64e6a1d4b9",
   "metadata": {},
   "source": [
    "## MySQL DROP TABLE Statement"
   ]
  },
  {
   "cell_type": "markdown",
   "id": "3ba9b1e2-d84f-415e-aa05-57f98a66620c",
   "metadata": {},
   "source": [
    "The `DROP TABLE` statement is used to drop an existing table in a database.\n",
    "\n",
    "- Syntax\n",
    "```sql\n",
    "DROP TABLE table_name;\n",
    "```\n",
    "- Example\n",
    "```sql\n",
    "DROP TABLE Shippers;\n",
    "```"
   ]
  },
  {
   "cell_type": "markdown",
   "id": "bf86a6c4-b38e-4603-86f9-881eb84cbd97",
   "metadata": {},
   "source": [
    "## MySQL ALTER TABLE Statement"
   ]
  },
  {
   "cell_type": "markdown",
   "id": "f8637854-3f47-4508-9b55-238e5f819b57",
   "metadata": {},
   "source": [
    "The `ALTER TABLE` statement is used to `add`, `delete`, or `modify` columns in an existing table. The `ALTER TABLE` is also used to add and drop various constraints on an existing table."
   ]
  },
  {
   "cell_type": "markdown",
   "id": "c9752c44-abca-471b-922d-180d97fe6acf",
   "metadata": {},
   "source": [
    "### ALTER TABLE - ADD Column"
   ]
  },
  {
   "cell_type": "markdown",
   "id": "c5fe60a8-d01b-41e5-be6c-352b103b5bfb",
   "metadata": {},
   "source": [
    "- The following SQL `adds` an \"Email\" column to the \"Customers\" table:\n",
    "```sql\n",
    "ALTER TABLE Customers\n",
    "ADD Email varchar(255);\n",
    "```"
   ]
  },
  {
   "cell_type": "markdown",
   "id": "2cd3baa0-0250-4f25-b779-9530690f52ad",
   "metadata": {},
   "source": [
    "### ALTER TABLE - DROP COLUMN"
   ]
  },
  {
   "cell_type": "markdown",
   "id": "51c9711b-e3a6-4cc8-bded-fa915778e88d",
   "metadata": {},
   "source": [
    "To `delete` a column in a table, use the following syntax **(notice that some database systems don't allow deleting a column)**.\n",
    "\n",
    "The following SQL `deletes` the \"Email\" column from the \"Customers\" table:\n",
    "```sql\n",
    "ALTER TABLE Customers\n",
    "DROP COLUMN Email;\n",
    "```"
   ]
  },
  {
   "cell_type": "markdown",
   "id": "2083a7cd-282f-4d13-abe9-9f099e71f482",
   "metadata": {},
   "source": [
    "### ALTER TABLE - MODIFY COLUMN"
   ]
  },
  {
   "cell_type": "markdown",
   "id": "d99f3c61-1ae4-4ea1-b088-fa6f591fcffe",
   "metadata": {},
   "source": [
    "To `change` the data type of a column in a table, use the following syntax:\n",
    "```sql\n",
    "ALTER TABLE table_name\n",
    "MODIFY COLUMN column_name datatype;\n",
    "```"
   ]
  },
  {
   "cell_type": "markdown",
   "id": "8375d9d9-5d4f-43e5-87e6-d49fc3bdf29a",
   "metadata": {},
   "source": [
    "## MySQL Constraints"
   ]
  },
  {
   "cell_type": "markdown",
   "id": "5717cb01-9d08-4ccb-b332-27fd5d615cf3",
   "metadata": {},
   "source": [
    "SQL `constraints` are used to specify rules for data in a table."
   ]
  },
  {
   "cell_type": "markdown",
   "id": "2cfe92e1-f646-4671-b0e0-2b60af6336df",
   "metadata": {},
   "source": [
    "### Create Constraints"
   ]
  },
  {
   "cell_type": "markdown",
   "id": "23b5ee45-c082-4cc1-b76d-8eb8497dd42c",
   "metadata": {},
   "source": [
    "`Constraints` can be specified when the table is created with the `CREATE TABLE` statement, or after the table is created with the `ALTER TABLE` statement.\n",
    "\n",
    "- Syntax\n",
    "```sql\n",
    "CREATE TABLE table_name (\n",
    "    column1 datatype constraint,\n",
    "    column2 datatype constraint,\n",
    "    column3 datatype constraint,\n",
    "    ....\n",
    ");\n",
    "```\n",
    "SQL `constraints` are used to `specify rules` for the data in a table.\n",
    "\n",
    "Constraints are used to limit the type of data that can go into a table. This ensures the accuracy and reliability of the data in the table. If there is any violation between the constraint and the data action, the action is aborted.\n",
    "\n",
    "Constraints can be column level or table level. Column level constraints apply to a column, and table level constraints apply to the whole table.\n",
    "\n",
    "The following constraints are commonly used in SQL:\n",
    "\n",
    "- `NOT NULL` - Ensures that a column cannot have a NULL value\n",
    "- `UNIQUE` - Ensures that all values in a column are different\n",
    "- `PRIMARY KEY` - A combination of a NOT NULL and UNIQUE. Uniquely identifies each row in a table\n",
    "- `FOREIGN KEY` - Prevents actions that would destroy links between tables\n",
    "- `CHECK` - Ensures that the values in a column satisfies a specific condition\n",
    "- `DEFAULT` - Sets a default value for a column if no value is specified\n",
    "- `CREATE INDEX` - Used to create and retrieve data from the database very quickly"
   ]
  },
  {
   "cell_type": "markdown",
   "id": "59717bdf-4b08-401e-b343-ba9c5cd10ec4",
   "metadata": {},
   "source": [
    "## MySQL NOT NULL Constraint"
   ]
  },
  {
   "cell_type": "markdown",
   "id": "2aa84aa7-372f-4dd5-99ae-e18ff962f7be",
   "metadata": {},
   "source": [
    "By default, a column can hold `NULL` values.\n",
    "The `NOT NULL` constraint enforces a column to NOT accept NULL values.\n",
    "\n",
    "This enforces a field to always contain a value, which means that you cannot insert a new record, or update a record without adding a value to this field.\n"
   ]
  },
  {
   "cell_type": "markdown",
   "id": "6054835d-1f7f-4660-a577-7df5d58f48af",
   "metadata": {},
   "source": [
    "### NOT NULL on CREATE TABLE"
   ]
  },
  {
   "cell_type": "markdown",
   "id": "9ad165e5-992f-453d-80d0-1bfdfe30a4d1",
   "metadata": {},
   "source": [
    "The following SQL ensures that the \"ID\", \"LastName\", and \"FirstName\" columns will NOT accept NULL values when the \"Persons\" table is created:\n",
    "```sql\n",
    "CREATE TABLE Persons (\n",
    "    ID int NOT NULL,\n",
    "    LastName varchar(255) NOT NULL,\n",
    "    FirstName varchar(255) NOT NULL,\n",
    "    Age int\n",
    ");\n",
    "```"
   ]
  },
  {
   "cell_type": "markdown",
   "id": "95d879e8-c4cd-4cee-8c5f-d1045ae7c601",
   "metadata": {},
   "source": [
    "## MySQL UNIQUE Constraint"
   ]
  },
  {
   "cell_type": "markdown",
   "id": "27e75e0c-5544-4a36-ace9-ad3310edaec1",
   "metadata": {},
   "source": [
    "The **UNIQUE** constraint ensures that all values in a column are different.\n",
    "\n",
    "Both the **UNIQUE** and `PRIMARY KEY` constraints provide a guarantee for uniqueness for a column or set of columns.\n",
    "\n",
    "A `PRIMARY KEY` constraint automatically has a **UNIQUE** constraint.\n",
    "\n",
    "However, you can have **many UNIQUE** constraints per table, but only `one PRIMARY KEY` constraint per table."
   ]
  },
  {
   "cell_type": "markdown",
   "id": "90dca153-b04d-4ab6-adc2-6345c74001ff",
   "metadata": {},
   "source": [
    "### UNIQUE Constraint on CREATE TABLE"
   ]
  },
  {
   "cell_type": "markdown",
   "id": "2980cbf7-352f-4405-b83e-87ad30cbbf68",
   "metadata": {},
   "source": [
    "The following SQL creates a `UNIQUE` constraint on the \"ID\" column when the \"Persons\" table is created:\n",
    "```sql\n",
    "CREATE TABLE Persons (\n",
    "    ID int NOT NULL,\n",
    "    LastName varchar(255) NOT NULL,\n",
    "    FirstName varchar(255),\n",
    "    Age int,\n",
    "    UNIQUE (ID)\n",
    ");\n",
    "```\n",
    "To name a `UNIQUE` constraint, and to define a UNIQUE constraint on multiple columns, use the following SQL syntax:\n",
    "```sql\n",
    "CREATE TABLE Persons (\n",
    "    ID int NOT NULL,\n",
    "    LastName varchar(255) NOT NULL,\n",
    "    FirstName varchar(255),\n",
    "    Age int,\n",
    "    CONSTRAINT UC_Person UNIQUE (ID,LastName)\n",
    ");\n",
    "```"
   ]
  },
  {
   "cell_type": "markdown",
   "id": "8d39ba9e-6f00-4c40-9284-8631cf20b818",
   "metadata": {},
   "source": [
    "## MySQL PRIMARY KEY Constraint"
   ]
  },
  {
   "cell_type": "markdown",
   "id": "e2c0c50d-4673-4b0b-9a1d-163277108369",
   "metadata": {},
   "source": [
    "The `PRIMARY KEY` constraint uniquely identifies each record in a table.\n",
    "\n",
    "`Primary keys` must contain UNIQUE values, and cannot contain NULL values.\n",
    "\n",
    "A table can have only **ONE primary key**; and in the table, this primary key can consist of single or multiple columns (fields).\n"
   ]
  },
  {
   "cell_type": "markdown",
   "id": "49fd188d-440f-4537-8b25-ae1220789141",
   "metadata": {},
   "source": [
    "### PRIMARY KEY on CREATE TABLE"
   ]
  },
  {
   "cell_type": "markdown",
   "id": "43bfef30-0c71-4f7c-b067-970304fba32d",
   "metadata": {},
   "source": [
    "The following SQL creates a PRIMARY KEY on the \"ID\" column when the \"Persons\" table is created:\n",
    "```sql\n",
    "CREATE TABLE Persons (\n",
    "    ID int NOT NULL,\n",
    "    LastName varchar(255) NOT NULL,\n",
    "    FirstName varchar(255),\n",
    "    Age int,\n",
    "    PRIMARY KEY (ID)\n",
    ");\n",
    "```\n",
    "To allow naming of a PRIMARY KEY constraint, and for defining a PRIMARY KEY constraint on multiple columns, use the following SQL syntax:\n",
    "```sql\n",
    "CREATE TABLE Persons (\n",
    "    ID int NOT NULL,\n",
    "    LastName varchar(255) NOT NULL,\n",
    "    FirstName varchar(255),\n",
    "    Age int,\n",
    "    CONSTRAINT PK_Person PRIMARY KEY (ID,LastName)\n",
    ");\n",
    "```\n",
    "**Note:** In the example above there is only ONE PRIMARY KEY (PK_Person). However, the VALUE of the primary key is made up of TWO COLUMNS (ID + LastName)."
   ]
  },
  {
   "cell_type": "markdown",
   "id": "2139175d-47a9-41f7-af18-16bfaebcaa5c",
   "metadata": {},
   "source": [
    "## MySQL FOREIGN KEY Constraint"
   ]
  },
  {
   "cell_type": "markdown",
   "id": "7ee09899-b731-4b72-9754-1507017f480c",
   "metadata": {},
   "source": [
    "The `FOREIGN KEY` constraint is used to prevent actions that would destroy links between tables.\n",
    "\n",
    "A `FOREIGN KEY` is a field (or collection of fields) in one table, that refers to the PRIMARY KEY in another table.\n",
    "\n",
    "The table with the foreign key is called the child table, and the table with the primary key is called the referenced or parent table.\n",
    "\n",
    "Look at the following two tables:"
   ]
  },
  {
   "cell_type": "markdown",
   "id": "1b98c059-e82b-41ed-994b-74b4355cba61",
   "metadata": {},
   "source": [
    "**Persons Table**\n",
    "\n",
    "| PersonID |\tLastName |\tFirstName |\tAge |\n",
    "| :- | :- | :- | :- |\n",
    "| 1 |\tHansen |\tOla |\t30 |\n",
    "| 2 |\tSvendson |\tTove |\t23 |\n",
    "| 3 |\tPettersen |\tKari |\t20 |"
   ]
  },
  {
   "cell_type": "markdown",
   "id": "8ac8fa05-c657-4a64-a321-40bbbd75addd",
   "metadata": {},
   "source": [
    "**Orders Table**\n",
    "\n",
    "| OrderID |\tOrderNumber |\tPersonID |\n",
    "| :- | :- | :- |\n",
    "| 1 |\t77895 |\t3 |\n",
    "| 2 |\t44678 |\t3 |\n",
    "| 3 |\t22456 |\t2 |\n",
    "| 4 |\t24562 |\t1 |\n",
    "\n",
    "\n",
    "Notice that the `\"PersonID\"` column in the `\"Orders\"` table points to the `\"PersonID\"` column in the `\"Persons\"` table.\n",
    "\n",
    "The `\"PersonID\"` column in the `\"Persons\"` table is the `PRIMARY KEY` in the `\"Persons\"` table.\n",
    "\n",
    "The `\"PersonID\"` column in the `\"Orders\"` table is a `FOREIGN KEY` in the `\"Orders\"` table.\n",
    "\n",
    "The `FOREIGN KEY` constraint prevents invalid data from being inserted into the `foreign key column`, because it has to be one of the values contained in the parent table."
   ]
  },
  {
   "cell_type": "markdown",
   "id": "875ddfe0-d861-4ae7-9986-c6c428703ec4",
   "metadata": {},
   "source": [
    "### FOREIGN KEY on CREATE TABLE"
   ]
  },
  {
   "cell_type": "markdown",
   "id": "8c1ba349-ab20-4d88-b3c9-3a8c720843c2",
   "metadata": {},
   "source": [
    "The following SQL creates a `FOREIGN KEY` on the `\"PersonID\"` column when the \"Orders\" table is created:\n",
    "```sql\n",
    "CREATE TABLE Orders (\n",
    "    OrderID int NOT NULL,\n",
    "    OrderNumber int NOT NULL,\n",
    "    PersonID int,\n",
    "    PRIMARY KEY (OrderID),\n",
    "    FOREIGN KEY (PersonID) REFERENCES Persons(PersonID)\n",
    ");\n",
    "```\n",
    "To allow naming of a FOREIGN KEY constraint, and for defining a FOREIGN KEY constraint on multiple columns, use the following SQL syntax:\n",
    "```sql\n",
    "CREATE TABLE Orders (\n",
    "    OrderID int NOT NULL,\n",
    "    OrderNumber int NOT NULL,\n",
    "    PersonID int,\n",
    "    PRIMARY KEY (OrderID),\n",
    "    CONSTRAINT FK_PersonOrder FOREIGN KEY (PersonID)\n",
    "    REFERENCES Persons(PersonID)\n",
    ");\n",
    "```"
   ]
  },
  {
   "cell_type": "markdown",
   "id": "3b0cf173-faaa-44b9-aee2-2de626b8b398",
   "metadata": {},
   "source": [
    "## MySQL DEFAULT Constraint"
   ]
  },
  {
   "cell_type": "markdown",
   "id": "ea2f5546-1a86-428a-ad42-5ffe86436b34",
   "metadata": {},
   "source": [
    "The `DEFAULT` constraint is used to set a default value for a column.\n",
    "\n",
    "The default value will be added to all new records, if no other value is specified.\n",
    "\n",
    "The following SQL sets a DEFAULT value for the \"City\" column when the \"Persons\" table is created:\n",
    "```sql\n",
    "CREATE TABLE Persons (\n",
    "    ID int NOT NULL,\n",
    "    LastName varchar(255) NOT NULL,\n",
    "    FirstName varchar(255),\n",
    "    Age int,\n",
    "    City varchar(255) DEFAULT 'Sandnes'\n",
    ");\n",
    "```\n",
    "The DEFAULT constraint can also be used to insert system values, by using functions like CURRENT_DATE():\n",
    "```sql\n",
    "CREATE TABLE Orders (\n",
    "    ID int NOT NULL,\n",
    "    OrderNumber int NOT NULL,\n",
    "    OrderDate date DEFAULT CURRENT_DATE()\n",
    ");\n",
    "```"
   ]
  },
  {
   "cell_type": "markdown",
   "id": "9849a77f-37f8-4edf-875b-8016a34c70dd",
   "metadata": {},
   "source": [
    "## MySQL CREATE INDEX Statement"
   ]
  },
  {
   "cell_type": "markdown",
   "id": "b1b7b5c7-967b-4491-a361-3cd17c5e45f0",
   "metadata": {},
   "source": [
    "The CREATE INDEX statement is used to create indexes in tables.\n",
    "\n",
    "Indexes are used to retrieve data from the database more quickly than otherwise. The users cannot see the indexes, they are just used to speed up searches/queries.\n",
    "\n",
    "Creates an index on a table. Duplicate values are allowed:\n",
    "```sql\n",
    "CREATE INDEX index_name\n",
    "ON table_name (column1, column2, ...);\n",
    "```\n",
    "Creates a unique index on a table. Duplicate values are not allowed:\n",
    "```sql\n",
    "CREATE UNIQUE INDEX index_name\n",
    "ON table_name (column1, column2, ...);\n",
    "```"
   ]
  },
  {
   "cell_type": "markdown",
   "id": "2f415e2e-77ad-4ae9-bf6c-0a9dedc199f0",
   "metadata": {},
   "source": [
    "## MySQL Dates"
   ]
  },
  {
   "cell_type": "markdown",
   "id": "3ffea3a8-dc15-4bb9-80e2-7046f4b1dfd8",
   "metadata": {},
   "source": [
    "As long as your data contains only the date portion, your queries will work as expected. However, if a time portion is involved, it gets more complicated.\n"
   ]
  },
  {
   "cell_type": "markdown",
   "id": "f37178e1-6de7-43b5-820c-9e71674c28b3",
   "metadata": {},
   "source": [
    "### MySQL Date Data Types"
   ]
  },
  {
   "cell_type": "markdown",
   "id": "792ee4ee-e4ff-45e2-a967-7ecb7983b1bd",
   "metadata": {},
   "source": [
    "MySQL comes with the following data types for storing a `date` or a date/time value in the database:\n",
    "\n",
    "- `DATE` - format YYYY-MM-DD\n",
    "- `DATETIME` - format: YYYY-MM-DD HH:MI:SS\n",
    "- `TIMESTAMP` `- format: YYYY-MM-DD HH:MI:SS\n",
    "- `YEAR` - format YYYY or YY"
   ]
  },
  {
   "cell_type": "markdown",
   "id": "dbaf0763-3e00-4feb-92ce-6162095e34db",
   "metadata": {},
   "source": [
    "##  MySQL Data Types"
   ]
  },
  {
   "cell_type": "markdown",
   "id": "15b2d631-ad80-4d78-acf2-cc02e0200d49",
   "metadata": {},
   "source": [
    "The `data type` of a column defines what value the column can hold: integer, character, money, date and time, binary, and so on.\n",
    "\n",
    "Each column in a database table is required to have a name and a data type.\n",
    "\n",
    "An SQL developer must decide what type of data that will be stored inside each column when creating a table. The data type is a guideline for SQL to understand what type of data is expected inside of each column, and it also identifies how SQL will interact with the stored data.\n",
    "\n",
    "In MySQL there are three main data types: string, numeric, and date and time."
   ]
  },
  {
   "cell_type": "markdown",
   "id": "e03ccb56-a207-4d6d-b52e-a3a5e745e9b3",
   "metadata": {},
   "source": [
    "### String Data Types"
   ]
  },
  {
   "cell_type": "markdown",
   "id": "e4ba7019-5bd1-4050-8084-8fa2384f161c",
   "metadata": {},
   "source": [
    "| Data type |\tDescription |\n",
    "| :- | :- |\n",
    "| CHAR(size) |\tA FIXED length string (can contain letters, numbers, and special characters). The size parameter specifies the column length in characters - can be from 0 to 255. Default is 1 |\n",
    "| VARCHAR(size) |\tA VARIABLE length string (can contain letters, numbers, and special characters). The size parameter specifies the maximum column length in characters - can be from 0 to 65535 |\n",
    "| BINARY(size) |\tEqual to CHAR(), but stores binary byte strings. The size parameter specifies the column length in bytes. Default is 1 |\n",
    "| VARBINARY(size) |\tEqual to VARCHAR(), but stores binary byte strings. The size parameter specifies the maximum column length in bytes. |\n",
    "| TINYBLOB |\tFor BLOBs (Binary Large OBjects). Max length: 255 bytes |\n",
    "| TINYTEXT |\tHolds a string with a maximum length of 255 characters |\n",
    "| TEXT(size) |\tHolds a string with a maximum length of 65,535 bytes |\n",
    "| BLOB(size) |\tFor BLOBs (Binary Large OBjects). Holds up to 65,535 bytes of data |\n",
    "| MEDIUMTEXT |\tHolds a string with a maximum length of 16,777,215 characters |\n",
    "| MEDIUMBLOB |\tFor BLOBs (Binary Large OBjects). Holds up to 16,777,215 bytes of data |\n",
    "| LONGTEXT |\tHolds a string with a maximum length of 4,294,967,295 characters |\n",
    "| LONGBLOB |\tFor BLOBs (Binary Large OBjects). Holds up to 4,294,967,295 bytes of data |\n",
    "| ENUM(val1, val2, val3, ...) |\tA string object that can have only one value, chosen from a list of possible values. You can list up to 65535 values in an ENUM list. If a value is inserted that is not in the list, a blank value will be inserted. The values are sorted in the order you enter them |\n",
    "| SET(val1, val2, val3, ...) |\tA string object that can have 0 or more values, chosen from a list of possible values. You can list up to 64 values in a SET list |"
   ]
  },
  {
   "cell_type": "markdown",
   "id": "0de73b92-219b-461c-9af8-d0dc2158cb44",
   "metadata": {},
   "source": [
    "### Numeric Data Types"
   ]
  },
  {
   "cell_type": "markdown",
   "id": "27e65ac5-5eff-45c2-9b30-3f7e6b5a2406",
   "metadata": {},
   "source": [
    "| Data type |\tDescription |\n",
    "| :- | :- |\n",
    "| BIT(size) |\tA bit-value type. The number of bits per value is specified in size. The size parameter can hold a value from 1 to 64. The default value for size is 1. |\n",
    "| TINYINT(size) |\tA very small integer. Signed range is from -128 to 127. Unsigned range is from 0 to 255. The size parameter specifies the maximum display width (which is 255) |\n",
    "| BOOL |\tZero is considered as false, nonzero values are considered as true. |\n",
    "| BOOLEAN |\tEqual to BOOL |\n",
    "| SMALLINT(size) |\tA small integer. Signed range is from -32768 to 32767. Unsigned range is from 0 to 65535. The size parameter specifies the maximum display width (which is 255) |\n",
    "| MEDIUMINT(size) |\tA medium integer. Signed range is from -8388608 to 8388607. Unsigned range is from 0 to 16777215. The size parameter specifies the maximum display width (which is 255) |\n",
    "| INT(size) |\tA medium integer. Signed range is from -2147483648 to 2147483647. Unsigned range is from 0 to 4294967295. The size parameter specifies the maximum display width (which is 255) |\n",
    "| INTEGER(size) |\tEqual to INT(size) |\n",
    "| BIGINT(size) |\tA large integer. Signed range is from -9223372036854775808 to 9223372036854775807. Unsigned range is from 0 to 18446744073709551615. The size parameter specifies the maximum display width (which is 255) |\n",
    "| FLOAT(size, d) |\tA floating point number. The total number of digits is specified in size. The number of digits after the decimal point is specified in the d parameter. This syntax is deprecated in MySQL 8.0.17, and it will be removed in future MySQL versions |\n",
    "| FLOAT(p) |\tA floating point number. MySQL uses the p value to determine whether to use FLOAT or DOUBLE for the resulting data type. If p is from 0 to 24, the data type becomes FLOAT(). If p is from 25 to 53, the data type becomes DOUBLE() |\n",
    "| DOUBLE(size, d) |\tA normal-size floating point number. The total number of digits is specified in size. The number of digits after the decimal point is specified in the d parameter |\n",
    "| DOUBLE PRECISION(size, d)\t | \n",
    "| DECIMAL(size, d) |\tAn exact fixed-point number. The total number of digits is specified in size. The number of digits after the decimal point is specified in the d parameter. The maximum number for size is 65. The maximum number for d is 30. The default value for size is 10. The default value for d is 0. |\n",
    "| DEC(size, d) |\tEqual to DECIMAL(size,d) |"
   ]
  },
  {
   "cell_type": "markdown",
   "id": "fa8a3500-c457-4787-8384-a8ef96af3677",
   "metadata": {},
   "source": [
    "### Date and Time Data Types"
   ]
  },
  {
   "cell_type": "markdown",
   "id": "70590e88-2497-4417-b6f4-9d82332cc962",
   "metadata": {},
   "source": [
    "| Data type |\tDescription |\n",
    "| :- | :- |\n",
    "| DATE |\tA date. Format: YYYY-MM-DD. The supported range is from '1000-01-01' to '9999-12-31' |\n",
    "| DATETIME(fsp) |\tA date and time combination. Format: YYYY-MM-DD hh:mm:ss. The supported range is from '1000-01-01 00:00:00' to '9999-12-31 23:59:59'. Adding DEFAULT and ON UPDATE in the column definition to get automatic initialization and updating to the current date and time |\n",
    "| TIMESTAMP(fsp) |\tA timestamp. TIMESTAMP values are stored as the number of seconds since the Unix epoch ('1970-01-01 00:00:00' UTC). Format: YYYY-MM-DD hh:mm:ss. The supported range is from '1970-01-01 00:00:01' UTC to '2038-01-09 03:14:07' UTC. Automatic initialization and updating to the current date and time can be specified using DEFAULT CURRENT_TIMESTAMP and ON UPDATE CURRENT_TIMESTAMP in the column definition |\n",
    "| TIME(fsp) |\tA time. Format: hh:mm:ss. The supported range is from '-838:59:59' to '838:59:59' |\n",
    "| YEAR |\tA year in four-digit format. Values allowed in four-digit format: 1901 to 2155, and 0000. MySQL 8.0 does not support year in two-digit format. |"
   ]
  },
  {
   "cell_type": "markdown",
   "id": "058a21ca-0b54-4244-83cb-404f63ea654b",
   "metadata": {},
   "source": [
    "### Semicolon after SQL Statements?"
   ]
  },
  {
   "cell_type": "markdown",
   "id": "0d52e107-dd9d-4880-939d-0b7e1ef3d2a0",
   "metadata": {},
   "source": [
    "Some database systems require a semicolon at the end of each SQL statement.\n",
    "\n",
    "Semicolon is the standard way to separate each SQL statement in database systems that allow more than one SQL statement to be executed in the same call to the server."
   ]
  },
  {
   "cell_type": "markdown",
   "id": "c814eaf0-b4dc-4ae6-9c12-641fa54d417d",
   "metadata": {},
   "source": [
    "### Some of The Most Important SQL Commands"
   ]
  },
  {
   "cell_type": "markdown",
   "id": "dd4c6fd6-523e-4915-a247-c81acd21e00e",
   "metadata": {},
   "source": [
    "- `SELECT` - extracts data from a database\n",
    "- `UPDATE` - updates data in a database\n",
    "- `DELETE` - deletes data from a database\n",
    "- `INSERT INTO` - inserts new data into a database\n",
    "- `CREATE DATABASE` - creates a new database\n",
    "- `ALTER DATABASE` - modifies a database\n",
    "- `CREATE TABLE` - creates a new table\n",
    "- `ALTER TABLE` - modifies a table\n",
    "- `DROP TABLE` - deletes a table\n",
    "- `CREATE INDEX` - creates an index (search key)\n",
    "- `DROP INDEX` - deletes an index"
   ]
  },
  {
   "cell_type": "markdown",
   "id": "3790e622-1385-437a-b929-f2f1dd4a6099",
   "metadata": {},
   "source": [
    "### The MySQL SELECT Statement"
   ]
  },
  {
   "cell_type": "markdown",
   "id": "f6ca7e5c-18fb-40b9-b6ad-038bf421bbb6",
   "metadata": {},
   "source": [
    "The `SELECT` statement is used to select data from a database.\n",
    "\n",
    "The data returned is stored in a result table, called the result-set."
   ]
  },
  {
   "cell_type": "markdown",
   "id": "1497487f-0ca1-4219-a400-ace58a376976",
   "metadata": {},
   "source": [
    "**SELECT Syntax**\n",
    "```sql\n",
    "SELECT column1, column2, ...\n",
    "FROM table_name;\n",
    "```"
   ]
  },
  {
   "cell_type": "markdown",
   "id": "a449f182-28e6-42a1-8f23-5e9541b39093",
   "metadata": {},
   "source": [
    "Here, column1, column2, ... are the field names of the table you want to select data from. If you want to select all the fields available in the table, use the following syntax:\n",
    "```sql\n",
    "SELECT * FROM table_name;\n",
    "```"
   ]
  },
  {
   "cell_type": "markdown",
   "id": "3a1be63d-4d75-4b0e-aaab-f635a9f12895",
   "metadata": {},
   "source": [
    "```sql\n",
    "SELECT CustomerName, City, Country FROM Customers;\n",
    "```"
   ]
  },
  {
   "cell_type": "markdown",
   "id": "fc12d15a-5a28-4a94-abc9-01b245530ef8",
   "metadata": {},
   "source": [
    "## MySQL WHERE Clause"
   ]
  },
  {
   "cell_type": "markdown",
   "id": "7d3ae970-398e-487d-bebd-307ecf400577",
   "metadata": {},
   "source": [
    "The `WHERE` clause is used to filter records.\n",
    "\n",
    "It is used to extract only those records that fulfill a specified condition.\n",
    "\n",
    "- WHERE Syntax\n",
    "```sql\n",
    "SELECT column1, column2, ...\n",
    "FROM table_name\n",
    "WHERE condition;\n",
    "```\n",
    "- Example\n",
    "```sql\n",
    "SELECT * FROM Customers\n",
    "WHERE Country = 'Mexico';\n",
    "```"
   ]
  },
  {
   "cell_type": "markdown",
   "id": "d46f333b-723b-4eff-b56e-3dc5f0952255",
   "metadata": {},
   "source": [
    "### Operators in The WHERE Clause"
   ]
  },
  {
   "cell_type": "markdown",
   "id": "1d4c7985-64c8-42f7-b982-64ad2b28d675",
   "metadata": {},
   "source": [
    "The following operators can be used in the WHERE clause:\n",
    "| Operator |\tDescription |\n",
    "| :- | :- |\n",
    "| = |\tEqual |\t\n",
    "| > |\tGreater than |\t\n",
    "| < |\tLess than |\t\n",
    "| >= |\tGreater than or equal |\t\n",
    "| <= |\tLess than or equal |\t\n",
    "| <> |\tNot equal. **Note**: In some versions of SQL this operator may be written as !=\t |\n",
    "| BETWEEN |\tBetween a certain range\t |\n",
    "| LIKE |\tSearch for a pattern |\t\n",
    "| IN |\tTo specify multiple possible values for a column |\n",
    "\n",
    "**Some examples:**\n",
    "```sql\n",
    "SELECT * FROM Products\n",
    "WHERE Price BETWEEN 50 AND 60;\n",
    "```\n",
    "```sql\n",
    "SELECT * FROM Customers\n",
    "WHERE City LIKE 's%';\n",
    "-- City shows that starts with `s`\n",
    "```\n",
    "```sql\n",
    "SELECT * FROM Customers\n",
    "WHERE City IN ('Paris','London');\n",
    "```"
   ]
  },
  {
   "cell_type": "markdown",
   "id": "3c8736bc-a9df-45e4-80ba-25f9b8e841dd",
   "metadata": {},
   "source": [
    "## MySQL AND, OR and NOT Operators"
   ]
  },
  {
   "cell_type": "markdown",
   "id": "6d3ee8b3-4d4b-434e-b7da-bcf4203e5926",
   "metadata": {},
   "source": [
    "The `WHERE clause` can be combined with `AND`, `OR`, and `NOT` operators.\n",
    "\n",
    "The `AND` and `OR` operators are used to filter records based on more than one condition:\n",
    "\n",
    "The `AND` operator displays a record if all the conditions separated by AND are TRUE.\n",
    "The `OR` operator displays a record if any of the conditions separated by OR is TRUE.\n",
    "The `NOT` operator displays a record if the condition(s) is NOT TRUE."
   ]
  },
  {
   "cell_type": "markdown",
   "id": "923006e7-372a-42be-82e8-c81be419e02b",
   "metadata": {},
   "source": [
    "- AND Syntax\n",
    "```sql\n",
    "SELECT column1, column2, ...\n",
    "FROM table_name\n",
    "WHERE condition1 AND condition2 AND condition3 ...;\n",
    "```\n",
    "\n",
    "- OR Syntax\n",
    "```sql\n",
    "SELECT column1, column2, ...\n",
    "FROM table_name\n",
    "WHERE condition1 OR condition2 OR condition3 ...;\n",
    "```\n",
    "\n",
    "- NOT Syntax\n",
    "```sql\n",
    "SELECT column1, column2, ...\n",
    "FROM table_name\n",
    "WHERE NOT condition;\n",
    "```"
   ]
  },
  {
   "cell_type": "markdown",
   "id": "0b543d06-3a64-4a28-ae97-ddb2a1b6f9c7",
   "metadata": {},
   "source": [
    "You can also `combine` the AND, OR and NOT operators.\n",
    "```sql\n",
    "SELECT * FROM Customers\n",
    "WHERE Country = 'Germany' AND (City = 'Berlin' OR City = 'Stuttgart');\n",
    "```"
   ]
  },
  {
   "cell_type": "markdown",
   "id": "1ad804c1-80be-4a7f-abbb-7a2e53a6bb02",
   "metadata": {},
   "source": [
    "## MySQL ORDER BY Keyword"
   ]
  },
  {
   "cell_type": "markdown",
   "id": "f48379df-c2ff-4904-ae53-6df280a3cd81",
   "metadata": {},
   "source": [
    "The `ORDER BY` keyword is used to sort the result-set in ascending or descending order.\n",
    "\n",
    "The `ORDER BY` keyword sorts the records in ascending order by default. To sort the records in `descending order`, use the `DESC keyword`.\n",
    "\n",
    "`DESC keyword` is default.\n",
    "- ORDER BY Syntax\n",
    "```sql\n",
    "SELECT column1, column2, ...\n",
    "FROM table_name\n",
    "ORDER BY column1, column2, ... ASC|DESC;\n",
    "```\n",
    "- Example\n",
    "```sql\n",
    "SELECT * FROM Customers\n",
    "ORDER BY Country ASC, CustomerName DESC;\n",
    "```"
   ]
  },
  {
   "cell_type": "markdown",
   "id": "af856865-d318-45c0-8099-9b9691299ebd",
   "metadata": {},
   "source": [
    "## MySQL INSERT INTO Statement"
   ]
  },
  {
   "cell_type": "markdown",
   "id": "07a808ef-cad9-48c4-b623-a91fb624805f",
   "metadata": {},
   "source": [
    "The `INSERT INTO` statement is used to `insert new records` in a table.\n",
    "\n",
    "It is possible to write the INSERT INTO statement in two ways:\n",
    "\n",
    "1. Specify both the column names and the values to be inserted:\n",
    "```sql\n",
    "INSERT INTO table_name (column1, column2, column3, ...)\n",
    "VALUES (value1, value2, value3, ...);\n",
    "```\n",
    "2. If you are adding values for all the columns of the table, you do not need to specify the column names in the SQL query. However, make sure the order of the values is in the same order as the columns in the table. Here, the INSERT INTO syntax would be as follows:\n",
    "```sql\n",
    "INSERT INTO table_name\n",
    "VALUES (value1, value2, value3, ...);\n",
    "```"
   ]
  },
  {
   "cell_type": "markdown",
   "id": "5057bb4f-5122-449e-93aa-ae493d778aae",
   "metadata": {},
   "source": [
    "## MySQL NULL Values"
   ]
  },
  {
   "cell_type": "markdown",
   "id": "e303d82c-aa90-433d-98fc-765bbaeed994",
   "metadata": {},
   "source": [
    "A field with a `NULL` value is a field with no value.\n",
    "\n",
    "If a field in a table is optional, it is possible to insert a new record or update a record without adding a value to this field. Then, the field will be saved with a NULL value.\n",
    "\n",
    "It is not possible to test for NULL values with comparison operators, such as =, <, or <>.\n",
    "\n",
    "We will have to use the `IS NULL` and `IS NOT NULL` operators instead.\n",
    "\n",
    "- IS NULL Syntax\n",
    "```sql\n",
    "SELECT column_names\n",
    "FROM table_name\n",
    "WHERE column_name IS NULL;\n",
    "```\n",
    "- IS NOT NULL Syntax\n",
    "```sql\n",
    "SELECT column_names\n",
    "FROM table_name\n",
    "WHERE column_name IS NOT NULL;\n",
    "```\n",
    "**Examples**\n",
    "- The `IS NULL` operator is used to test for empty values (NULL values).\n",
    "```sql\n",
    "SELECT CustomerName, ContactName, Address\n",
    "FROM Customers\n",
    "WHERE Address IS NULL;\n",
    "```\n",
    "- The `IS NOT NULL` operator is used to test for non-empty values (NOT NULL values).\n",
    "```sql\n",
    "SELECT CustomerName, ContactName, Address\n",
    "FROM Customers\n",
    "WHERE Address IS NOT NULL;\n",
    "```"
   ]
  },
  {
   "cell_type": "markdown",
   "id": "ba97b37d-4e78-4e0c-9ca2-c527674b921f",
   "metadata": {},
   "source": [
    "## MySQL UPDATE Statement"
   ]
  },
  {
   "cell_type": "markdown",
   "id": "f32c9466-95a6-4f73-9d2e-bc43e6699a9d",
   "metadata": {},
   "source": [
    "The `UPDATE` statement is used to modify the existing records in a table.\n",
    "- Example\n",
    "```sql\n",
    "UPDATE Customers\n",
    "SET PostalCode = 00000\n",
    "WHERE Country = 'Mexico';\n",
    "```"
   ]
  },
  {
   "cell_type": "markdown",
   "id": "7d0baf6b-400b-43ea-a042-e43ef5b0f333",
   "metadata": {},
   "source": [
    "## MySQL DELETE Statement"
   ]
  },
  {
   "cell_type": "markdown",
   "id": "9a20ac7d-e18d-48b4-9413-2ce47ccab773",
   "metadata": {},
   "source": [
    "The `DELETE` statement is used to delete existing records in a table.\n",
    "```sql\n",
    "DELETE FROM table_name WHERE condition;\n",
    "```\n",
    "- Example\n",
    "```sql\n",
    "DELETE FROM Customers WHERE CustomerName='Alfreds Futterkiste';\n",
    "```"
   ]
  },
  {
   "cell_type": "markdown",
   "id": "5d1e6229-2989-433d-bff8-a543e3aaaf2f",
   "metadata": {},
   "source": [
    "## MySQL LIMIT Clause"
   ]
  },
  {
   "cell_type": "markdown",
   "id": "644a4a88-c961-4e00-8493-1605e70926ee",
   "metadata": {},
   "source": [
    "The `LIMIT` clause is used to specify the number of records to return.\n",
    "\n",
    "The `LIMIT` clause is useful on large tables with thousands of records. Returning a large number of records can impact performance.\n",
    "\n",
    "- Example\n",
    "```sql\n",
    "SELECT * FROM Customers\n",
    "WHERE Country='Germany'\n",
    "LIMIT 3;\n",
    "-- It shows the first three\n",
    "```\n",
    "**limit x,y** ---> `It shows between x and y`"
   ]
  },
  {
   "cell_type": "markdown",
   "id": "7fc946a7-118c-4d32-98f5-3d22e198c4c8",
   "metadata": {},
   "source": [
    "## MySQL MIN() and MAX() Functions"
   ]
  },
  {
   "cell_type": "markdown",
   "id": "0dd21d8c-b9aa-4b3e-8abe-fb1c9898aaba",
   "metadata": {},
   "source": [
    "The `MIN()` function returns the smallest value of the selected column.\n",
    "\n",
    "The `MAX()` function returns the largest value of the selected column.\n",
    "\n",
    "- Examples\n",
    "```sql\n",
    "SELECT MIN(Price) AS SmallestPrice\n",
    "FROM Products;\n",
    "```\n",
    "\n",
    "```sql\n",
    "SELECT MAX(Price) AS LargestPrice\n",
    "FROM Products;\n",
    "```"
   ]
  },
  {
   "cell_type": "markdown",
   "id": "b4cdee66-2a8a-4486-88ce-c893732607c7",
   "metadata": {},
   "source": [
    "## MySQL LIKE Operator"
   ]
  },
  {
   "cell_type": "markdown",
   "id": "1ae78052-dc9b-4fd2-aa92-9add55e202e7",
   "metadata": {},
   "source": [
    "The `LIKE` operator is used in a WHERE clause to search for a specified pattern in a column.\n",
    "\n",
    "There are two wildcards often used in conjunction with the LIKE operator:\n",
    "\n",
    "The percent sign `(%)` represents zero, one, or multiple characters\n",
    "The underscore sign (_) represents one, single character\n",
    "The percent sign and the underscore can also be used in combinations!\n",
    "\n",
    "- Example\n",
    "`The following SQL statement selects all customers with a CustomerName starting with \"a\":`\n",
    "```sql\n",
    "SELECT * FROM Customers\n",
    "WHERE CustomerName LIKE 'a%';\n",
    "```\n"
   ]
  },
  {
   "cell_type": "markdown",
   "id": "f2fb91d8-54ea-4002-8271-d378b3d6e7cf",
   "metadata": {},
   "source": [
    "## MySQL IN Operator"
   ]
  },
  {
   "cell_type": "markdown",
   "id": "66d65a22-a627-45f1-9b0f-d4e5b8cb5b56",
   "metadata": {},
   "source": [
    "The `IN` operator allows you to specify multiple values in a WHERE clause.\n",
    "\n",
    "The `IN` operator is a shorthand for multiple OR conditions.\n",
    "```sql\n",
    "SELECT * FROM Customers\n",
    "WHERE Country IN ('Germany', 'France', 'UK');\n",
    "```"
   ]
  },
  {
   "cell_type": "markdown",
   "id": "e8449758-0427-499c-8260-9eb9953f5d07",
   "metadata": {},
   "source": [
    "## MySQL BETWEEN Operator"
   ]
  },
  {
   "cell_type": "markdown",
   "id": "e12b232c-c1af-426a-a9ad-1913764b3e59",
   "metadata": {},
   "source": [
    "The `BETWEEN` operator selects values within a given range. The values can be numbers, text, or dates.\n",
    "\n",
    "The `BETWEEN` operator is inclusive: begin and end values are included.\n",
    "```sql\n",
    "SELECT * FROM Products\n",
    "WHERE Price BETWEEN 10 AND 20;\n",
    "```"
   ]
  },
  {
   "cell_type": "markdown",
   "id": "afb255fc-cc5f-49ba-be2c-f56bc0bf6e93",
   "metadata": {},
   "source": [
    "## MySQL UNION Operator"
   ]
  },
  {
   "cell_type": "markdown",
   "id": "24de0ae2-62bb-408f-9f00-7b42b60d4c90",
   "metadata": {},
   "source": [
    "The `UNION` operator is used to combine the result-set of two or more SELECT statements.\n",
    "\n",
    "- Every SELECT statement within UNION must have the same number of columns\n",
    "- The columns must also have similar data types\n",
    "- The columns in every SELECT statement must also be in the same order\n",
    "```sql\n",
    "SELECT City FROM Customers\n",
    "UNION\n",
    "SELECT City FROM Suppliers\n",
    "ORDER BY City;\n",
    "```"
   ]
  },
  {
   "cell_type": "markdown",
   "id": "b7b284ab-341a-449f-b847-533460a507a6",
   "metadata": {},
   "source": [
    "## MySQL GROUP BY Statement"
   ]
  },
  {
   "cell_type": "markdown",
   "id": "d57eb195-2301-459d-a179-8ce7f820031a",
   "metadata": {},
   "source": [
    "The `GROUP BY` statement groups rows that have the same values into summary rows, like \"find the number of customers in each country\".\n",
    "\n",
    "The `GROUP BY` statement is often used with aggregate functions (COUNT(), MAX(), MIN(), SUM(), AVG()) to group the result-set by one or more columns.\n",
    "```sql\n",
    "SELECT COUNT(CustomerID), Country\n",
    "FROM Customers\n",
    "GROUP BY Country;\n",
    "```"
   ]
  },
  {
   "cell_type": "markdown",
   "id": "5af01b22-c03d-4414-8953-0c7a2554a494",
   "metadata": {},
   "source": [
    "## MySQL COUNT(), AVG() and SUM() Functions"
   ]
  },
  {
   "cell_type": "markdown",
   "id": "c214c239-deb2-4717-b1be-2d8e72f64c16",
   "metadata": {},
   "source": [
    "The `COUNT()` function returns the number of rows that matches a specified criterion.\n",
    "```sql\n",
    "SELECT COUNT(column_name)\n",
    "FROM table_name\n",
    "WHERE condition;\n",
    "```\n",
    "The `AVG()` function returns the average value of a numeric column. \n",
    "```sql\n",
    "SELECT AVG(column_name)\n",
    "FROM table_name\n",
    "WHERE condition;\n",
    "```\n",
    "The `SUM()` function returns the total sum of a numeric column.\n",
    "```sql\n",
    "SELECT SUM(column_name)\n",
    "FROM table_name\n",
    "WHERE condition;\n",
    "```"
   ]
  },
  {
   "cell_type": "markdown",
   "id": "4a2c3edf-6102-4d90-abe1-44df4f278024",
   "metadata": {},
   "source": [
    "## MySQL EXISTS Operator"
   ]
  },
  {
   "cell_type": "markdown",
   "id": "e0afb197-642c-497f-9d88-6d1ceff9675e",
   "metadata": {},
   "source": [
    "The `EXISTS` operator is used to test for the existence of any record in a subquery.\n",
    "\n",
    "The `EXISTS` operator returns TRUE if the subquery returns one or more records.\n",
    "\n",
    "The following SQL statement returns TRUE and lists the suppliers with a product price less than 20:\n",
    "```sql\n",
    "SELECT SupplierName\n",
    "FROM Suppliers\n",
    "WHERE EXISTS (SELECT ProductName FROM Products WHERE Products.SupplierID = Suppliers.supplierID AND Price < 20);\n",
    "```"
   ]
  },
  {
   "cell_type": "markdown",
   "id": "5b0ad76f-2d53-4cdc-9f48-3c90d5f1be7c",
   "metadata": {},
   "source": [
    "## MySQL ANY and ALL Operators"
   ]
  },
  {
   "cell_type": "markdown",
   "id": "7b3f28ec-4faf-49d5-b62f-daf52db57d4b",
   "metadata": {},
   "source": [
    "The `ANY` and `ALL` operators allow you to perform a comparison between a single column value and a range of other values.\n",
    "\n",
    "The `ANY` operator:\n",
    "\n",
    "- returns a boolean value as a result\n",
    "- returns TRUE if ANY of the subquery values meet the condition\n",
    "`ANY` means that the condition will be true if the operation is true for any of the values in the range.\n",
    "```sql\n",
    "SELECT column_name(s)\n",
    "FROM table_name\n",
    "WHERE column_name operator ANY\n",
    "  (SELECT column_name\n",
    "  FROM table_name\n",
    "  WHERE condition);\n",
    "```\n",
    "\n",
    "The `ALL` operator:\n",
    "\n",
    "returns a boolean value as a result\n",
    "returns TRUE if ALL of the subquery values meet the condition\n",
    "is used with SELECT, WHERE and HAVING statements\n",
    "`ALL` means that the condition will be true only if the operation is true for all values in the range.\n",
    "```sql\n",
    "SELECT ALL column_name(s)\n",
    "FROM table_name\n",
    "WHERE condition;\n",
    "```"
   ]
  },
  {
   "cell_type": "code",
   "execution_count": null,
   "id": "2df3a86f-685b-4dd8-aa7a-84e3f3dfb95f",
   "metadata": {},
   "outputs": [],
   "source": []
  }
 ],
 "metadata": {
  "kernelspec": {
   "display_name": "Python 3 (ipykernel)",
   "language": "python",
   "name": "python3"
  },
  "language_info": {
   "codemirror_mode": {
    "name": "ipython",
    "version": 3
   },
   "file_extension": ".py",
   "mimetype": "text/x-python",
   "name": "python",
   "nbconvert_exporter": "python",
   "pygments_lexer": "ipython3",
   "version": "3.11.2"
  }
 },
 "nbformat": 4,
 "nbformat_minor": 5
}
