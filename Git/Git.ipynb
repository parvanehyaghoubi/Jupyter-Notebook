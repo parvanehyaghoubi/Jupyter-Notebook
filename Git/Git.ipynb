{
 "cells": [
  {
   "cell_type": "markdown",
   "id": "f9842aca-efc6-447d-9d0a-e8b8813a723c",
   "metadata": {},
   "source": [
    "![git](https://encrypted-tbn0.gstatic.com/images?q=tbn:ANd9GcQTh0kXUBq8ywpR-kGN5FRpeN_nFmhvC13Bmw&s)"
   ]
  },
  {
   "cell_type": "markdown",
   "id": "3a979c82-6dbb-4de7-afab-d00c284f2aac",
   "metadata": {},
   "source": [
    "# What is Git?"
   ]
  },
  {
   "cell_type": "markdown",
   "id": "9a79a466-f0ec-46f5-87e3-66ad114d4739",
   "metadata": {},
   "source": [
    "**Git** is a popular **version control system**. It was created by Linus Torvalds in 2005, and has been maintained by Junio Hamano since then.\n",
    "\n",
    "It is used for:\n",
    "\n",
    "- Tracking code changes\n",
    "- Tracking who made changes\n",
    "- Coding collaboration"
   ]
  },
  {
   "cell_type": "markdown",
   "id": "64458432-8d21-487f-b9ef-fc234969a438",
   "metadata": {},
   "source": [
    "# What does Git do?"
   ]
  },
  {
   "cell_type": "markdown",
   "id": "81fa25ee-152b-482e-9cb7-e0dbdf487ea3",
   "metadata": {},
   "source": [
    "- Manage projects with **Repositories**.\n",
    "- **Clone** a project to work on a local copy.\n",
    "- Control and track changes with **Staging** and **Committing**.\n",
    "- **Branch** and **Merge** to allow for work on different parts and versions of a project\n",
    "- **Pull** the latest version of the project to a local copy\n",
    "- **Push** local updates to the main project"
   ]
  },
  {
   "cell_type": "markdown",
   "id": "9a8e4e1f-2914-40b6-8ec7-e0ce63bb14c2",
   "metadata": {},
   "source": [
    "![git](https://encrypted-tbn0.gstatic.com/images?q=tbn:ANd9GcR4IkgIwsGWN52UBrCWimoeCqeQ4fo2F91_mg&s)"
   ]
  },
  {
   "cell_type": "markdown",
   "id": "703821d8-f906-410d-858d-d5af8f23a946",
   "metadata": {},
   "source": [
    "# Why Git?"
   ]
  },
  {
   "cell_type": "markdown",
   "id": "07f3e9e1-5260-4cc8-aa8c-ea88da9ec59f",
   "metadata": {},
   "source": [
    "- Over 70% of developers use Git!\n",
    "- Developers can work together from anywhere in the world.\n",
    "- Developers can see the full history of the project.\n",
    "- Developers can revert to earlier versions of a project."
   ]
  },
  {
   "cell_type": "markdown",
   "id": "2f6af85f-ec02-47fd-8b3d-ce894828397c",
   "metadata": {},
   "source": [
    "# What is GitHub?"
   ]
  },
  {
   "cell_type": "markdown",
   "id": "6068840c-f53d-4e40-baa3-a07442882340",
   "metadata": {},
   "source": [
    "- Git is not the same as GitHub.\n",
    "- GitHub makes tools that use Git.\n",
    "- GitHub is the largest host of source code in the world, and has been owned by Microsoft since 2018.\n",
    "- In this tutorial, we will focus on using Git with GitHub."
   ]
  },
  {
   "cell_type": "markdown",
   "id": "1b6e921f-80b1-4f25-a518-bf04340355fc",
   "metadata": {},
   "source": [
    "# Git Install"
   ]
  },
  {
   "cell_type": "markdown",
   "id": "eeb806e3-d897-48aa-b196-464d89538084",
   "metadata": {},
   "source": [
    "You can download Git for free from the following website: `https://www.git-scm.com/`\n",
    "\n",
    "When you install Git, git"
   ]
  },
  {
   "cell_type": "markdown",
   "id": "acd1642e-aaa8-4e8e-b3e2-74143a31c539",
   "metadata": {},
   "source": [
    "## Using Git with Command Line"
   ]
  },
  {
   "cell_type": "markdown",
   "id": "07bee513-856d-447a-a596-ef99876ae53c",
   "metadata": {},
   "source": [
    "For Windows, you can use `Git bash`, which comes included in Git for Windows. You can also use `poweshell` or `cmd`. For Mac and Linux you can use the built-in terminal.\n",
    "\n",
    "The first thing we need to do, is to check if Git is properly installed:\n",
    "```bash\n",
    "git --version\n",
    "git version 2.30.2.windows.1\n",
    "```\n",
    "If Git is installed, it should show something like `git version X.Y`"
   ]
  },
  {
   "cell_type": "markdown",
   "id": "f39ec02c-86cf-4c69-9484-60c2d9d4b788",
   "metadata": {},
   "source": [
    "## Configure Git"
   ]
  },
  {
   "cell_type": "markdown",
   "id": "8fb5bb2e-cd31-43bf-956d-7a043c19e7cb",
   "metadata": {},
   "source": [
    "This is important for version control systems, as each `Git commit` uses this information.\n",
    "```bash\n",
    "git config --global user.name \"example-test\"\n",
    "git config --global user.email \"example@w3schools.com\"\n",
    "```\n",
    "Change the user name and e-mail address to your own. You will probably also want to use this when registering to GitHub later on"
   ]
  },
  {
   "cell_type": "markdown",
   "id": "601476ee-bec9-4329-8e9b-868f8321133f",
   "metadata": {},
   "source": [
    "## Creating Git Folder"
   ]
  },
  {
   "cell_type": "markdown",
   "id": "f2566312-c31e-4d8c-808e-fc2f25c34e49",
   "metadata": {},
   "source": [
    "create a new folder for your project:\n",
    "```bash\n",
    "$ mkdir myproject\n",
    "$ cd myproject\n",
    "```\n",
    "Now that we are in the correct directory. We can start by initializing Git!"
   ]
  },
  {
   "cell_type": "markdown",
   "id": "4829769e-c851-4cb8-b69a-ab12b4b21e26",
   "metadata": {},
   "source": [
    "| Parameters | Details |\n",
    "| :- | :- |\n",
    "| mkdir | makes a new directory |\n",
    "| cd | changes the current working directory |\n",
    "| pwd | shows the path directory |\n",
    "| ls | List all content within a directory |\n",
    "| ls -a ./ | current working directory |\n",
    "| ls -a ../ | previous working directory |\n",
    "| touch | make a new file |\n",
    "| rm | remove file |\n",
    "| rm -r | remove directory |\n",
    "| ls -a | show hidden files like .git |"
   ]
  },
  {
   "cell_type": "markdown",
   "id": "1839e2c1-3d74-4e1e-bf64-fe6a2ca8e77c",
   "metadata": {},
   "source": [
    "## Git Adding New Files"
   ]
  },
  {
   "cell_type": "markdown",
   "id": "9b4269f0-db4f-464a-9caa-1c955e6f0271",
   "metadata": {},
   "source": [
    "You just created your first local Git repo. But it is empty.\n",
    "So let's add some files, or create a new file using your favourite text editor. Then save or move it to the folder you just created.\n",
    "And save it to our new folder as `example.txt`."
   ]
  },
  {
   "cell_type": "markdown",
   "id": "74e60c96-8240-4dcd-b5cc-e8a8e633957a",
   "metadata": {},
   "source": [
    "```bash\n",
    "$ ls\n",
    "$ example.txt\n",
    "```"
   ]
  },
  {
   "cell_type": "markdown",
   "id": "b4742132-b2b8-4dc2-bfa0-1010187e50e2",
   "metadata": {},
   "source": [
    "`ls` will list the files in the directory. We can see that `example.txt` is there.\n",
    "\n",
    "Then we check the `Git status` and see if it is a part of our repo:\n",
    "```bash\n",
    "$ git status\n",
    "On branch master\n",
    "No commits yet\n",
    "Untracked files:\n",
    "  (use \"git add ...\" to include in what will be committed)\n",
    "    example.txt\n",
    "nothing added to commit but untracked files present (use \"git add\" to track)\n",
    "```"
   ]
  },
  {
   "cell_type": "markdown",
   "id": "5a526f5a-fa0f-4e5d-b5d2-5a8b3e28fca9",
   "metadata": {},
   "source": [
    "Now Git is aware of the file, but has not added it to our repository!\n",
    "\n",
    "Files in your Git repository folder can be in one of 2 states:\n",
    "\n",
    "- Tracked - files that Git knows about and are added to the repository\n",
    "- Untracked - files that are in your working directory, but not added to the repository\n",
    "\n",
    "When you first add files to an empty repository, they are all untracked. To get Git to track them, you need to stage them, or add them to the staging environment."
   ]
  },
  {
   "cell_type": "markdown",
   "id": "2a00142d-3903-41ce-9d58-9a8bc37208cf",
   "metadata": {},
   "source": [
    "## Git Staging Environment"
   ]
  },
  {
   "cell_type": "markdown",
   "id": "5e538326-1bc7-46ab-ab51-209885d67e12",
   "metadata": {},
   "source": [
    "One of the core functions of Git is the concepts of the Staging Environment, and the Commit.\n",
    "As you are working, you may be adding, editing and removing files. But whenever you hit a milestone or finish a part of the work, you should add the files to a Staging Environment.\n",
    "Staged files are files that are ready to be committed to the repository you are working on."
   ]
  },
  {
   "cell_type": "markdown",
   "id": "afbb71c8-5948-4728-8df1-605cdcbf3478",
   "metadata": {},
   "source": [
    "![git](data:image/png;base64,iVBORw0KGgoAAAANSUhEUgAAASgAAACqCAMAAAAp1iJMAAABAlBMVEX///8AkJrNnwD1TSeyr6zLnADKmAD0OwD1RBX5p5vhx4tXp6/95+X59ev1RxzLmgAAipX1QAz7xb7s3Lr4iXfbu25usbe619vOzMs4Lynd3Nvp6Of1SiIzKiPIxsT19PS5trT6r6VmYFz6tqwqHxYAAADs6+vBvrz+8O72b1j2ZUv6ubA/NzE1m6T93tomGg9GPjj1VTT5npBYUUyJhYIeDwCin5zm0aL38eR4c2/2XD73emb4hXT3c134koP8zsgZBQDXs1jTqz/QpSbewXzo1aqalpSNwMXQ5Ob0KQBiXFhybWqEgHzaumnRqDHjy5Px5cumztLEjADu4cOVyc3J4eRicaKLAAAPGElEQVR4nO2dCV+qXBCHp9REK1KzEvR4ULm4h3uZ7bld2+ytvv9Xeecc9KaWRita/H9XwLMpTzPDAHIugC1bthZSJ5550prVOKYq4BbmSf6U1UCmKSg65kn+gNVApskGZVI2KJOyQZmUDcqkbFAmZYMyKRuUSdmgTMoGZVI2KJMyCyoiihG+IQqRKU1Yi+m1CwFKC49IpqNVJkFFDoLBDGMgNrIHU1gcB9NCI1t8udbk38NSULJzTLXwaKVJUOIxQEzADXcKssJLLSJpgOzUWkejOPegks4JzQKFHoYFEcOP0JFEXoQb7gR4hIgYEUq7R6xNhHtiBFuIfISI4A4iKM9uWuTtI0MnZU0cwhFkGMCnAcWIMYoYmRdQ0UlOs0BFMsHgoVg8cDiCwYbob5SOIyI6nT9YcsTA4z84Pjo4bGSKWJIuHQkOsXjsCQaDDEqxFERQRaM2clg6EIVg6cjNmpQOhfQuHAeLERwnKIqZ4KH/uJQOBo+Fo2Bw3JGtAxV+xmkWKMEDsPt3F7IHACciv9yYQac7AUgjKEcKPEEADzoZqzpEO4EUbovc71AJVtvg7Y+L7BJc1n3IyrO7fCRelCp6eAMkkvqL60NxPkANHE8Z0SzXc5/AschgBdb+ZiEQieFmFk6yDFRiDdJ+dxZKbg/spgOQwP1s/A0Ahm/3LgQOApDFth5W64HDEygJKThIwaEDAm7sWvSfQCKCg2K3bABEbOA+gmP/nLgexxSdXj8BCoP2SRp2QUQMa9AQMgC48yUxI8awcUpwCAncvxLWehDLLqQRVBpBoclhadad4BhjQgat7ySQgmNIucVMBkFlROSWQSNcwz/GoSMjNtCiAjDOyWpQ4en1k8H8AFIeeow72MAjWHoISogIaFsnEPMLWQ4Kwza+gsz1djHIIKiMn5Ua9pbwRzioQICBwrjvZ6AcT6CCGMMFjFuQXVRQzInoSQZSVMT9if0toesxK3G4Y1DCQORwP1lUwp2GbKzEDmRoMSX0qgRri31ibjaOx+1IOzAIRTJF5noiFpX+xrjrHbrReBEzs8YFBYWWAx6RwomfBWiMvul0CtaykQYuG7uwVsL14RqkGh5IHeH7tZMsJqLsIIBKeYzatRMBPQswsy3G2MqD0JFYgw94cEhhl2Vb6Iq7k0nX4oCKHCQSGbGUOMLTkYNYIHYgpBOxhCdyhMtGOpE4Zmt8HTUSiXSWD7GL7iMcBzwHsUSJ1cZisSxmShnsfRQRDgOBUjFSjOFSyCROPEWBdfcgIX8MDxwLCwozR2F4yhYR/LiOsPttfBnBhSgYL76NbvS3AWsszojY1Lg1J/L2w95Y4ReMN+MD4ru1lGPyfGeBQL1BGI5TqclMyKxElmGlJs8bfyYoPDPBtNvs+e6kimnUZOEPBWWcyL27M2rOQGnT6+0LdyiK4qBk3JjSxgaFCtWezoSVKW1sUEzKEyjbombp6RpLaFoTGxTXv6ubU1vYoLi0ASd5agsblKHQzEiOOn75XoBV4mfPlui1PGqt6J4nNb6PzITk2Rc4Mdlamyd9F5YXpExPDWyNKjwjktsa1UzHs2XLlq1vlzwzftNweHghTwuHZ6RYP160oEozMoLaH706qI6fVsvf853mUjTHQYUuX7Yr+VIacgyVpfg3frG5k+F6ldMpDqg8GVyF/EpQ4ZCsaRqlGrvwG8qpUar9qwkN4pIcokkDFA3JvxNUuFc9PSWSflXTiUTb1VyOqEYEonH9tKrHkU64rOu5OHe9UE6vln+l6xVIWalJpCbLPSlHFYxE9Uqb11ROc4qTqE6AMiHxOMkhKKpL5LIs/UJQsq5iTKqoyMZJchqEVHUYo0LOJECOXIGskgpAGw0OAxVR8LD3C13PAFVXr56DQueT5ZxUB4WoIcwPGKgKUenvBAU5qdCuE115Dkouk2qVgXISIg9A1UkOfimocA5xSCwqTYIqk7KscYtSJyzq8jeCqqg1zA3YFoKiEGVBiL/VCEYmSiQWo6Q6DfckibUhbQgVfmEwj1ZzhXI5XpHBWSZSPaxVJamgc1J4cMPDnVRwsqNeTiUSuaLsqJfTsUnF6i/+3aI5SVVVQk7ldi8eLyOvQqFc56BC5ULZqfR6ddDihcKV3OuVNVZYqIXKvZ7VX/y7FZYuo0lnm5DasGTkhxkjWy8V/io5dUwMMArpSau/yZwLEVUl9ZTjsjVLYWelUqlN/TWGLVvfpPV5ktUwpmv/YmWedGY1j6lqupbnSSv3VgOZpq35ArWxaTWQabJBmZQNaiA5hJpxP9QGNVDolUdlbVAD2aBMygZlUjYok7JBmZQNyqRsUCb1paBcG5+NeRxUaHSmlGToS3/09nmgnjd0bfXPPpnUBKiJ6XeSX3iZfxLU5EeZB+W9ebZX+7C58Z2gvvLZgklQ4Yknsc2AQg9zuc7gDKG4Bt7Gi1xnrXNcLrMXK9owNvgWa2o0Nnq4zLnpa6C+7s7Jc1BOZdTXXwflOt/b3Du73ofW3oXrurV5e7G8fOHdbO3tbd3eXi/v7d00W15sdr25ubfnZR22Nje9F65b7LTZ3LjY2+S1Rse3gXo+Sdis558+AZQyBgrBPVnwq6DQlPbvod9i14xvtmB9H/Zdy/twvw77XoC9C2MY78ot7PfxPXa4ZY36K9gQoL+M/WB/o8k7vu6n46DC8oiisx9l/aiMmQCV0FDRiScdXwfVguZ/3tuVPpy50GrOV9Zh+Ro2Vy6ghXD2VrYQxi2+X4eNlXtgHZqtm/9gfXkZ1m9gswXe//pwvsU7vhXUuJJf6nv0ufUaCpsFtYWt7m84qOWNc+8eB9XnsBioJq6bHNQ5GhrzLmyERnVxgRa0gnaFpgTNFewIHwQV+togJU8jldRMgWJJADqPYVEI4B5g2cWvbJ9vjIK6ZkWtDW6C+5sGKNcygmp5vd4bo+Ncg3o+veSYTb1uUXv9/1zrgKCaLB/YcjEP6vevr5dXNgzXM0B5YWvrfAVHWwE4Q7dzuZCua6MF9xc3TeyIZbAy16BeOMiORCkzMWp9HYM1eg402QLNi3kjrO+xe0tNfHlx4WW35Nb757iv97zRPYb2dRyd36q7aRkdXzUpS0EBlaPJgaID+woNj3uvu97F9a0Xw5Pr2nuGgdp7fo6WA/v7GHm2traa50183WBRf72/vw59hqLpvTjbur5mtcxzb5s3Liy7wY6vfpi1oEbF04PkG9IDI3M0VmzBMsgWXPzn2mdByzUsPofWf+h+PFM3Sl3D9HPQ23gtEqixiTjfc1LsOuP+dDvWlcf3vomccmFAjd+SedfVAzSgs7OJs+SNm7Ozmw+f+c0PqMn5kd57meUFNzLhWa9qfkBNakEu3NFoNKQY5xjR6IwJ1r5OCwJqLBv8VkBDLQqokVMxa+ZxWBRQT2mzRVFqYUDBEJRFv/peHFCDs3urfs27OKAGM/ZZ9RhBa8U1V9qf/lU16yI506Z3ntSf9VWTM+dWs/VPdOZkvraeFLKf8zGnqRP52rJl6xMUjl9+8IZw+PKjIyyE2qpee73V7BHUD46wEErqeohNg1V/9whRXY+yES4/8VvNo/jRLaS/H5QxgvyREeZZyXaF/W9kFF8yJAtSLzn84Q1VsIolm3LNeMg1pChhrVZRWAEmVzL2oLWKE8KsDE8Ln0b4eSkqLetVVSekKv9Rq7XwHyknnf4xrhXIRK1W1T8U6rpe1fU4QLyq9rCx2qvqpOqEq1O1LFWNt3ob6MgIP28a0opakGmbXFII5UiNTysXMu7T0hzpyXKuSmsqqYWdqooo4hK5quVyUqVGpDjQK4nUa4UcqdRyUhmejfCj1GNTNmm6TjEIs8kbymQYYRQ+zUy7rBkzpMSlHMAVKQ8WcdJjUz0VKC7UQZkxQo/8yBh1yXbYSRCUNgGqzSblQVGVtPlbQkdAXY6DqjyBKv9MUCEiFcqEzdswCaoyBKUPQcFvBsV2sVBm96ImQTn5/GCooesVfjWomlrW+HyPbCasNpujqCAbcz2GVakQDSsKQiCKpvCsu07KdByUZphahVWEC2yEHo4g/7z0oCBJeMAvxGVMBgi5gjYe+P8YkzYpp0SvnlYxg1B1Vdcv2RR1hEiYLaiXEFfVHh4OCdHaulqGK51I4Wcj/CQ5CeY9uL8FOrh756xfDX8tLdfqRsKpXNUrLDPiN47Zz6sVfoGY3/SjbMnv/70wwg9SWdWoFq5LVau/yLyrSpyyHC2rPzIAf6acUvX09PRnHqg+V5RNPfDzzjhs2bL1IT2szpN2rMYxVQ++pTmSz9e1Gsg0bVvNZly+uTUpG5RJ2aBMaoFAsTPdmmVXTRYIlPLvIUMrZIMyKRuUSdmgTMoGZVI2KJOyQZnUZ4L6hNPGXwEq/wlj/QZQPvoJg02CGn1E6MeAeoTVJR90PuSA46Dksac9FwNUPr+UXzXWPlzgi4UkX341P1gZzTrwkF/iLf71ybNtvngjqLAy/liscxFA5QE6+G+pC0BXVwHY/mz78uwy251v6RFXj1i/fceG7PgecKnlsdmD0XIV63ZMWdoTKGpM4ET/yXgE1LIbvyZB4b7THdh+hM42aL47oJ0dXHfhbpXC6jay6Xbx3fbSDpYsbSPMO+gafTp38Ojz0a7JzxmCenlCGYsevH4LqG00iW1mVx0Kvg4zIzQUoD6kcYdgdlbZPm4jwo4PNzBQUUA/vFvazmNDNK5tc6FrAGrqXE7W/W8ubwHF4Ghaly4NQG0zUB2sYK7HlgNQbANB5Tvc3xi3R2ruYwagkrUpnBTLOL0JFB7TIO/z+bhFoTkhK45htbOEHvhkUXdYjcZnGB6Lb9TYMA1qmuMpFt5HNnvU24FuZwkRQJdqSAC6LIpjnNpBXg/w0IFuXoMdtDX62EFIOxQejD48bwCTn/IvRtEXpgdTrHtM1jyofBeFGUGnqz12mLs9amgkvruutpP3rT5qGjLiLXa63W1W0O34WB+NdV7FcP5GUIPkANMBbSiLf5Vg1qKYxw1Whuv9e7vET/J8/A1bGwU+31NtB1bfDmoQ0a0jM6H3ZOZ5/ON2zSWQTOil3dV3gOKhyiouz/QuUB2U+eastVmsE+d62vw8RPyuc72BT31Ba/u+nknZoEzKBmVSNiiTskGZlA3KpGxQJjW/oD52ifvTxa/YzKWo6dOwb1Hnq/bzf4xJlwah+sqcAAAAAElFTkSuQmCC)"
   ]
  },
  {
   "cell_type": "markdown",
   "id": "a4e3f24d-9ddb-459a-ae8c-16eafa09ff05",
   "metadata": {},
   "source": [
    "```bash\n",
    "$ git add example.txt\n",
    "```\n",
    "`The file should be Staged. `\n",
    "```bash\n",
    "$ git status\n",
    "On branch master\n",
    "\n",
    "No commits yet\n",
    "\n",
    "Changes to be committed:\n",
    "  (use \"git rm --cached ...\" to unstage)\n",
    "    new file: example.txt\n",
    "```\n",
    "`Now the file has been added to the Staging Environment.`"
   ]
  },
  {
   "cell_type": "markdown",
   "id": "79c59e3f-75f2-44fa-a820-3e953e872c5e",
   "metadata": {},
   "source": [
    "If all files in the list should be shared with everyone who has access to the repository, a single command will add\n",
    "everything in your current directory and its subdirectories:\n",
    "```bash\n",
    "$ git add .\n",
    "```"
   ]
  },
  {
   "cell_type": "markdown",
   "id": "ae57bc93-85cc-4256-aa6c-9896fecdb286",
   "metadata": {},
   "source": [
    "This will \"stage\" all files to be added to version control, preparing them to be committed in your first commit.\n",
    "For files that you want never under version control, create and populate a file named `.gitignore` before running\n",
    "the add command.\n",
    "`Commit` all the files that have been added, along with a commit message:\n",
    "```bash\n",
    "$ git commit -m \"Initial commit\"\n",
    "[master (root-commit) 221ec6e] Initial commit\n",
    " 3 files changed, 26 insertions(+)\n",
    " create mode 100644 example.txt\n",
    "```\n",
    "- When we commit, we should always include a message."
   ]
  },
  {
   "cell_type": "markdown",
   "id": "a4956d43-afe8-4cf0-9eec-5d2d5bee4deb",
   "metadata": {},
   "source": [
    "This creates a new commit with the given message. A `commit` is like a save or snapshot of your entire project. You\n",
    "can now `push`, or upload it to a remote repository, and later you can jump back to it if necessary.\n",
    "If you omit the -m parameter, your default editor will open and you can edit and save the commit message there."
   ]
  },
  {
   "cell_type": "markdown",
   "id": "cc902d08-c844-4323-97b7-2411c8d86475",
   "metadata": {},
   "source": [
    "To view the history of commits for a repository, you can use the `log` command.\n",
    "```bash\n",
    "$ git log\n",
    "commit 09f4acd3f8836b7f6fc44ad9e012f82faf861803 (HEAD -> master)\n",
    "Author: example-test \n",
    "Date:   Fri Mar 26 09:35:54 2021 +0100\n",
    "\n",
    "    Updated example.txt with a new line\n",
    "\n",
    "commit 221ec6e10aeedbfd02b85264087cd9adc18e4b26\n",
    "Author: example-test \n",
    "Date:   Fri Mar 26 09:13:07 2021 +0100\n",
    "\n",
    "    Initial commit\n",
    "```"
   ]
  },
  {
   "cell_type": "markdown",
   "id": "654739db-43d6-46bf-8d21-79668e010fe6",
   "metadata": {},
   "source": [
    "- **Adding a remote**\n",
    "\n",
    "To add a new `remote`, use the git remote add command on the terminal, in the directory your repository is stored\n",
    "at.\n",
    "The git remote add command takes two arguments:\n",
    "1. A remote name, for example, origin\n",
    "2. A remote URL, for example, https://<your-git-service-address>/user/repo.git\n",
    "```bash\n",
    "$ git remote add origin https://<your-git-service-address>/owner/repository.git\n",
    "```\n",
    "**NOTE**: Before adding the remote you have to create the required repository in your git service, You'll be able to\n",
    "push/pull commits after adding your remote."
   ]
  },
  {
   "cell_type": "markdown",
   "id": "7086eed0-ca31-4114-ae33-5d7a937fed93",
   "metadata": {},
   "source": [
    "## Clone a repository"
   ]
  },
  {
   "cell_type": "markdown",
   "id": "67513d74-e397-4c22-b352-1ef264dd7d38",
   "metadata": {},
   "source": [
    "The `git clone` command is used to copy an existing Git repository from a server to the local machine.\n",
    "For example, to clone a GitHub project:\n",
    "```bash\n",
    "$ cd <path where you would like the clone to create a directory>\n",
    "$ git clone https://github.com/username/projectname.git\n",
    "```\n",
    "To clone a BitBucket project:\n",
    "```bash\n",
    "$ cd <path where you would like the clone to create a directory>\n",
    "$ git clone https://yourusername@bitbucket.org/username/projectname.git\n",
    "```\n",
    "This creates a directory called projectname on the local machine, containing all the files in the remote Git\n",
    "repository. This includes source files for the project, as well as a .git sub-directory which contains the entire\n",
    "history and configuration for the project."
   ]
  },
  {
   "cell_type": "markdown",
   "id": "067c462c-0b68-49c5-af3b-b082c9b3c4f3",
   "metadata": {},
   "source": [
    "To share your code you create a repository on a **remote server** to which you will copy your local repository.\n",
    "To minimize the use of space on the remote server you create a bare repository: one which has only the .git\n",
    "objects and doesn't create a working copy in the filesystem. As a bonus you set this remote as an upstream server\n",
    "to easily share updates with other programmers.\n",
    "```bash\n",
    "$ git remote add origin ssh://username@server:/path/to/repo.git\n",
    "```\n",
    "Now copy your local repository to the remote:\n",
    "```bash\n",
    "$ git push --set-upstream origin master\n",
    "```\n",
    "Adding `--set-upstream` (or `-u`) created an upstream (tracking) reference which is used by argument-less Git\n",
    "commands, e.g. git pull."
   ]
  },
  {
   "cell_type": "markdown",
   "id": "e293984a-8ea1-489c-92a3-3e00f6c145a5",
   "metadata": {},
   "source": [
    "### Learning about a command"
   ]
  },
  {
   "cell_type": "markdown",
   "id": "96d52b3f-18e7-4633-a573-8bfdc76bc080",
   "metadata": {},
   "source": [
    "To get more information about any **git command** – i.e. details about what the command does, available options and\n",
    "other documentation – use the `--help` option or the help command.\n",
    "For example, to get all available information about the `git diff` command, use:\n",
    "```bash\n",
    "$ git diff --help\n",
    "$ git help diff\n",
    "```\n",
    "Similarly, to get all available information about the status command, use:\n",
    "```bash\n",
    "$ git status --help\n",
    "$ git help status\n",
    "```\n",
    "If you only want a quick help showing you the meaning of the most used command line flags, use -h:\n",
    "```bash\n",
    "$ git checkout -h\n",
    "```"
   ]
  },
  {
   "cell_type": "markdown",
   "id": "35604482-369b-468d-bfd2-4435a8e7c8ff",
   "metadata": {},
   "source": [
    "## Working with Git Branches"
   ]
  },
  {
   "cell_type": "markdown",
   "id": "3d83feb0-31bf-4c12-9b0a-1503df17695b",
   "metadata": {},
   "source": [
    "### Creating and checking out new branches"
   ]
  },
  {
   "cell_type": "markdown",
   "id": "cf86b918-8fc0-4b57-9404-03c61d55e5c9",
   "metadata": {},
   "source": [
    "To create a new branch, while staying on the current branch, use:\n",
    "```bash\n",
    "$ git branch <name>\n",
    "```\n",
    "Generally, the branch name must not contain spaces and is subject to other specifications listed here. To switch to\n",
    "an existing branch :\n",
    "```bash\n",
    "$ git checkout <name>\n",
    "```\n",
    "To create a new branch and switch to it:\n",
    "```bash\n",
    "$ git checkout -b <name>\n",
    "```"
   ]
  },
  {
   "cell_type": "markdown",
   "id": "94118701-f3d0-4f4e-aee3-835daca2c479",
   "metadata": {},
   "source": [
    "| Parameter | Details\n",
    "| :- | :- |\n",
    "| -d, --delete | Delete a branch. The branch must be fully merged in its upstream branch, or in HEAD if no upstream was set with --track or --setupstream |\n",
    "| -D | Shortcut for --delete --force |\n",
    "| -m, --move | Move/rename a branch and the corresponding reflog |\n",
    "| -M | Shortcut for --move --force |\n",
    "| -r, --remotes | List or delete (if used with -d) the remote-tracking branches |\n",
    "| -a, --all  |List both remote-tracking branches and local branches |\n",
    "| --list | Activate the list mode. git branch <pattern> would try to create a branch, use git branch --list <pattern> to list matching branches |\n",
    "| --set-upstream  |    If specified branch does not exist yet or if --force has been given, acts exactly like --track. Otherwise sets up configuration like --track would when creating the branch, except that where branch points to is not changed |"
   ]
  },
  {
   "cell_type": "markdown",
   "id": "56a321eb-7bad-470e-b7e9-0fbef1289986",
   "metadata": {},
   "source": [
    "### Delete a remote branch"
   ]
  },
  {
   "cell_type": "markdown",
   "id": "b4d0bd5e-95e1-4f27-b28c-dc5a75fdc033",
   "metadata": {},
   "source": [
    "To delete a branch on the origin remote repository, you can use for Git version 1.5.0 and newer\n",
    "```bash\n",
    "$ git push origin :<branchName>\n",
    "```\n",
    "and as of Git version 1.7.0, you can delete a remote branch using\n",
    "```bash\n",
    "$ git push origin --delete <branchName>\n",
    "```\n",
    "To delete a local remote-tracking branch:\n",
    "```bash\n",
    "$ git branch --delete --remotes <remote>/<branch>\n",
    "$ git branch -dr <remote>/<branch> # Shorter\n",
    "$ git fetch <remote> --prune # Delete multiple obsolete tracking branches\n",
    "$ git fetch <remote> -p # Shorter\n",
    "```\n",
    "To delete a branch locally. Note that this will not delete the branch if it has any unmerged changes:\n",
    "```bash\n",
    "$ git branch -d <branchName>\n",
    "```\n",
    "To delete a branch, even if it has unmerged changes:\n",
    "```bash\n",
    "$ git branch -D <branchName>\n",
    "```"
   ]
  },
  {
   "cell_type": "markdown",
   "id": "a88394dc-e873-4c9f-b473-48130be758e3",
   "metadata": {},
   "source": [
    "### Rename a branch"
   ]
  },
  {
   "cell_type": "markdown",
   "id": "18cb4b22-205d-4258-bdf7-a5d3b4270301",
   "metadata": {},
   "source": [
    "**Rename** the branch you have checked out:\n",
    "```bash\n",
    "$ git branch -m new_branch_name\n",
    "```\n",
    "Rename another branch:\n",
    "```bash\n",
    "$ git branch -m branch_you_want_to_rename new_branch_name\n",
    "```"
   ]
  },
  {
   "cell_type": "markdown",
   "id": "773d11c9-9666-414d-ac13-1b901ecced85",
   "metadata": {},
   "source": [
    "### Push branch to remote"
   ]
  },
  {
   "cell_type": "markdown",
   "id": "d62927e6-2c93-4153-bc82-b9e3ac663a6f",
   "metadata": {},
   "source": [
    "Use to push commits made on your local branch to a remote repository.\n",
    "    \n",
    "The git push command takes two arguments:\n",
    "- A remote name, for example, origin\n",
    "- A branch name, for example, master\n",
    "\n",
    "For example:\n",
    "```bash\n",
    "$ git push <REMOTENAME> <BRANCHNAME>\n",
    "```"
   ]
  },
  {
   "cell_type": "markdown",
   "id": "cfdfcafb-2b48-4af5-acb4-62d314533e76",
   "metadata": {},
   "source": [
    "As an example, you usually run git push origin master to push your local changes to your online repository.\n",
    "Using -u (short for --set-upstream) will set up the tracking information during the push.\n",
    "```bash\n",
    "$ git push -u <REMOTENAME> <BRANCHNAME>\n",
    "```\n",
    "By default, git pushes the local branch to a remote branch with the same name. For example, if you have a local\n",
    "called new-feature, if you push the local branch it will create a remote branch new-feature as well. If you want to\n",
    "use a different name for the remote branch, append the remote name after the local branch name, separated by `:`\n",
    "```bash\n",
    "$ git push <REMOTENAME> <LOCALBRANCHNAME>:<REMOTEBRANCHNAME>\n",
    "```"
   ]
  },
  {
   "cell_type": "markdown",
   "id": "82266b62-7a08-496d-8b06-4e4276443c9b",
   "metadata": {},
   "source": [
    "## Github fork and Contribute"
   ]
  },
  {
   "cell_type": "markdown",
   "id": "97a2236e-c38a-489e-a0ed-1c77a14bcd0f",
   "metadata": {},
   "source": [
    "When working as a team on a project, it is important that everyone stays up to date.\n",
    "Any time you start working on a project, you should get the most recent changes to your local copy.\n",
    "With Git, you can do that with `pull`.\n",
    "\n",
    "pull is a combination of 2 different commands:\n",
    "\n",
    "- **fetch**\n",
    "- **merge**"
   ]
  },
  {
   "cell_type": "markdown",
   "id": "e1745326-2797-4dad-9801-2aa7477aeb32",
   "metadata": {},
   "source": [
    "### Git Fetch"
   ]
  },
  {
   "cell_type": "markdown",
   "id": "9f4e7623-0633-49b3-ac67-fa5aa46ca9da",
   "metadata": {},
   "source": [
    "fetch gets all the change history of a tracked branch/repo.\n",
    "So, on your local Git, fetch updates to see what has changed on GitHub.\n",
    "```bash\n",
    "$ git fetch origin\n",
    "remote: Enumerating objects: 5, done.\n",
    "remote: Counting objects: 100% (5/5), done.\n",
    "remote: Compressing objects: 100% (3/3), done.\n",
    "remote: Total 3 (delta 2), reused 0 (delta 0), pack-reused 0\n",
    "Unpacking objects: 100% (3/3), 733 bytes | 3.00 KiB/s, done.\n",
    "From https://github.com/w3schools-test/hello-world\n",
    "   e0b6038..d29d69f  master     -> origin/master\n",
    "```"
   ]
  },
  {
   "cell_type": "markdown",
   "id": "e6261280-676a-495d-864e-43adf5fb9b50",
   "metadata": {},
   "source": [
    "```bash\n",
    "$ git status\n",
    "On branch master\n",
    "Your branch is behind 'origin/master' by 1 commit, and can be fast-forwarded.\n",
    "  (use \"git pull\" to update your local branch)\n",
    "\n",
    "nothing to commit, working tree clean.\n",
    "```"
   ]
  },
  {
   "cell_type": "markdown",
   "id": "bd1b8b79-7ccc-4c67-9cbd-b1a05a05e3d3",
   "metadata": {},
   "source": [
    "### Git Merge"
   ]
  },
  {
   "cell_type": "markdown",
   "id": "025731c4-baac-4d8e-bfaf-fe5b1b34bced",
   "metadata": {},
   "source": [
    "merge combines the current branch, with a specified branch.\n",
    "\n",
    "```bash\n",
    "$ git merge origin/master\n",
    "Updating e0b6038..d29d69f\n",
    "Fast-forward\n",
    " README.md | 4 +++-\n",
    " 1 file changed, 3 insertions(+), 1 deletion(-)\n",
    " ```"
   ]
  },
  {
   "cell_type": "markdown",
   "id": "048b6013-bf4d-40e1-8645-d7cb54016fa9",
   "metadata": {},
   "source": [
    "```bash\n",
    "$ git status\n",
    "On branch master\n",
    "Your branch is up to date with 'origin/master'.\n",
    "\n",
    "nothing to commit, working tree clean\n",
    "```"
   ]
  },
  {
   "cell_type": "markdown",
   "id": "6848ddb6-2b6b-496f-807c-696fff6144fa",
   "metadata": {},
   "source": [
    "### Git Pull"
   ]
  },
  {
   "cell_type": "markdown",
   "id": "417d6c39-7db1-47e7-9d45-92dbca677257",
   "metadata": {},
   "source": [
    "But what if you just want to update your local repository, without going through all those steps?\n",
    "\n",
    "pull is a combination of fetch and merge. It is used to pull all changes from a remote repository into the branch you are working on.\n",
    "Make another change to the Readme.md file on GitHub.\n",
    "```bash\n",
    "$ git pull origin\n",
    "remote: Enumerating objects: 5, done.\n",
    "remote: Counting objects: 100% (5/5), done.\n",
    "remote: Compressing objects: 100% (3/3), done.\n",
    "remote: Total 3 (delta 1), reused 0 (delta 0), pack-reused 0\n",
    "Unpacking objects: 100% (3/3), 794 bytes | 1024 bytes/s, done.\n",
    "From https://github.com/w3schools-test/hello-world\n",
    "   a7cdd4b..ab6b4ed  master       -> origin/master\n",
    "Updating a7cdd4b..ab6b4ed\n",
    "Fast-forward\n",
    " README.md | 2 ++\n",
    " 1 file changed, 2 insertions(+)\n",
    "```\n",
    "That is how you keep your local Git up to date from a remote repository. In the next chapter, we will look closer at how push works on GitHub."
   ]
  },
  {
   "cell_type": "markdown",
   "id": "27726eed-9391-45bb-81b6-45f7b0a37b45",
   "metadata": {},
   "source": [
    "### Push Changes to GitHub"
   ]
  },
  {
   "cell_type": "markdown",
   "id": "fc60be70-dd47-4356-8817-4c3c88637b96",
   "metadata": {},
   "source": [
    "Let's try making some changes to our local git on your own branch and pushing them to GitHub on main branch.\n",
    "```bash\n",
    "$ git commit -a -m \"Updated index.html. Resized image\"\n",
    "[master e7de78f] Updated index.html. Resized image\n",
    " 1 file changed, 1 insertion(+), 1 deletion(-)\n",
    " ```\n",
    "\n",
    "```bash\n",
    "$ git status\n",
    "On branch master\n",
    "Your branch is ahead of 'origin/master' by 1 commit.\n",
    "  (use \"git push\" to publish your local commits)\n",
    "\n",
    "nothing to commit, working tree clean\n",
    "```\n",
    "\n",
    "```bash\n",
    "$ git push origin\n",
    "Enumerating objects: 9, done.\n",
    "Counting objects: 100% (8/8), done.\n",
    "Delta compression using up to 16 threads\n",
    "Compressing objects: 100% (5/5), done.\n",
    "Writing objects: 100% (5/5), 578 bytes | 578.00 KiB/s, done.\n",
    "Total 5 (delta 3), reused 0 (delta 0), pack-reused 0\n",
    "remote: Resolving deltas: 100% (3/3), completed with 3 local objects.\n",
    "To https://github.com/w3schools-test/hello-world.git\n",
    "   5a04b6f..facaeae  master -> master\n",
    "```"
   ]
  },
  {
   "cell_type": "markdown",
   "id": "649b8466-f004-4423-821e-2136aaecbf01",
   "metadata": {},
   "source": [
    "### pull request"
   ]
  },
  {
   "cell_type": "markdown",
   "id": "d512fb9b-5a7d-45ea-8236-c1be035378f8",
   "metadata": {},
   "source": [
    "After the fork and clone the code, create a new local branch, and push that to GitHub."
   ]
  },
  {
   "cell_type": "markdown",
   "id": "e8c38edf-17df-45c8-a430-74c99f84ff86",
   "metadata": {},
   "source": [
    "![pull](https://encrypted-tbn0.gstatic.com/images?q=tbn:ANd9GcTF8apjaHmocsosu3_u3syK8OV3p9s4HSCvRw&s)"
   ]
  },
  {
   "cell_type": "markdown",
   "id": "137230cc-19e3-40a8-a487-eecf9fe21753",
   "metadata": {},
   "source": [
    "![pull](data:image/jpeg;base64,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)"
   ]
  },
  {
   "cell_type": "markdown",
   "id": "8ead2559-65d7-4935-b021-5d375d760890",
   "metadata": {},
   "source": [
    "```bash\n",
    "$ git checkout -b update-readme\n",
    "```\n",
    "`Switched` to a new branch 'update-readme'"
   ]
  },
  {
   "cell_type": "markdown",
   "id": "fff06642-cd22-43b1-8a3f-ada78bd9233b",
   "metadata": {},
   "source": [
    "```bash\n",
    "$ git status\n",
    "On branch update-readme\n",
    "Changes not staged for commit:\n",
    "  (use \"git add ...\" to update what will be committed)\n",
    "  (use \"git restore ...\" to discard changes in working directory)\n",
    "        modified:   README.md\n",
    "\n",
    "no changes added to commit (use \"git add\" and/or \"git commit -a\")\n",
    "```"
   ]
  },
  {
   "cell_type": "markdown",
   "id": "406df7e1-db3e-4f36-9c9b-28718fa4b643",
   "metadata": {},
   "source": [
    "```bash\n",
    "$ git add README.md\n",
    "```"
   ]
  },
  {
   "cell_type": "markdown",
   "id": "ae8e6d8e-a5e5-411c-94bd-0ab50ab59f3a",
   "metadata": {},
   "source": [
    "```bash\n",
    "$ git commit -m \"Updated readme for GitHub Branches\"\n",
    "[update-readme 836e5bf] Updated readme for GitHub Branches\n",
    " 1 file changed, 1 insertion(+)\n",
    " ```"
   ]
  },
  {
   "cell_type": "markdown",
   "id": "18a8a7d1-b537-48ec-bb42-b1555ef9c392",
   "metadata": {},
   "source": [
    "```bash\n",
    "$ git push origin update-readme\n",
    "Enumerating objects: 5, done.\n",
    "Counting objects: 100% (5/5), done.\n",
    "Delta compression using up to 16 threads\n",
    "Compressing objects: 100% (3/3), done.\n",
    "Writing objects: 100% (3/3), 366 bytes | 366.00 KiB/s, done.\n",
    "Total 3 (delta 2), reused 0 (delta 0), pack-reused 0\n",
    "remote: Resolving deltas: 100% (2/2), completed with 2 local objects.\n",
    "remote:\n",
    "remote: Create a pull request for 'update-readme' on GitHub by visiting:\n",
    "remote:      https://github.com/w3schools-test/hello-world/pull/new/update-readme\n",
    "remote:\n",
    "To https://github.com/w3schools-test/hello-world.git\n",
    " * [new branch]      update-readme -> update-readme\n",
    "```"
   ]
  },
  {
   "cell_type": "markdown",
   "id": "0ca0517c-7694-4cb5-8e8e-05126d57a029",
   "metadata": {},
   "source": [
    "`Go to GitHub, and confirm that the repository has a new branch`."
   ]
  },
  {
   "cell_type": "markdown",
   "id": "2f2b123f-e3b8-48c5-b255-5ac4e787babd",
   "metadata": {},
   "source": [
    "![request](https://www.w3schools.com/git/img_github_branch_create_pull_request.png)"
   ]
  },
  {
   "cell_type": "markdown",
   "id": "875db0fd-00b4-489b-8a64-e6e5d9f256fb",
   "metadata": {},
   "source": [
    "**If approved, the repository manager will merge your changes.**"
   ]
  },
  {
   "cell_type": "code",
   "execution_count": null,
   "id": "c717d3bc-0abf-459a-a6fb-1be577efcfc7",
   "metadata": {},
   "outputs": [],
   "source": []
  }
 ],
 "metadata": {
  "kernelspec": {
   "display_name": "Python 3 (ipykernel)",
   "language": "python",
   "name": "python3"
  },
  "language_info": {
   "codemirror_mode": {
    "name": "ipython",
    "version": 3
   },
   "file_extension": ".py",
   "mimetype": "text/x-python",
   "name": "python",
   "nbconvert_exporter": "python",
   "pygments_lexer": "ipython3",
   "version": "3.11.2"
  }
 },
 "nbformat": 4,
 "nbformat_minor": 5
}
