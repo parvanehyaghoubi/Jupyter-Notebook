{
 "cells": [
  {
   "cell_type": "markdown",
   "id": "86573170-5a56-47f4-a92e-cc70a9a93d0a",
   "metadata": {},
   "source": [
    "![python](https://jupyter-notebook.readthedocs.io/en/stable/_images/python_logo.svg)"
   ]
  },
  {
   "cell_type": "markdown",
   "id": "b54517de-0350-45db-ae5a-73dfd3889e0b",
   "metadata": {},
   "source": [
    "# Python Getting Started"
   ]
  },
  {
   "cell_type": "markdown",
   "id": "97bd9efd-0969-4efb-b64b-b0ae4585a9d9",
   "metadata": {},
   "source": [
    "## Python Install"
   ]
  },
  {
   "cell_type": "markdown",
   "id": "f4fa6345-76ab-4fc4-b5f4-3c586e64f21a",
   "metadata": {},
   "source": [
    ">To check if you have python installed on a Windows PC, search in the start bar for Python or run the following on the Command Line (cmd.exe):"
   ]
  },
  {
   "cell_type": "markdown",
   "id": "b44cd740-2060-4f7d-81d7-376161080f0d",
   "metadata": {},
   "source": [
    "```C:\\Users\\Desktop>python --version```"
   ]
  },
  {
   "cell_type": "markdown",
   "id": "7f285dd4-6f5d-4c6a-ac48-c46348816741",
   "metadata": {},
   "source": [
    ">Python is an interpreted programming language, this means that as a developer you write Python (.py) files in a text editor and\n",
    ">then put those files into the python interpreter to be executed.\n",
    "\n",
    ">The way to run a python file is like this on the command line:"
   ]
  },
  {
   "cell_type": "markdown",
   "id": "deadfafb-23bc-4934-acfc-9ebd4c1553b5",
   "metadata": {},
   "source": [
    "```C:\\Users\\Desktop>python helloworld.py```"
   ]
  },
  {
   "cell_type": "markdown",
   "id": "28189843-d065-42b8-8b1a-bd6aa3dbedaf",
   "metadata": {},
   "source": [
    "## Python Quickstart"
   ]
  },
  {
   "cell_type": "markdown",
   "id": "d55d8607-d637-40cc-94b7-80e507ac15a3",
   "metadata": {},
   "source": [
    ">Where \"helloworld.py\" is the name of your python file and you can write your first code in any text editor like cmd:"
   ]
  },
  {
   "cell_type": "markdown",
   "id": "b72384ff-df1d-43c2-97da-7aaf3390b0ee",
   "metadata": {},
   "source": [
    "```python\n",
    ">>> print(\"Hello, World!\")\n",
    "\n",
    "Hello, World!\n",
    "```"
   ]
  },
  {
   "cell_type": "markdown",
   "id": "50386f51-224d-461c-84b8-783c88bb893c",
   "metadata": {},
   "source": [
    "## Python Variables"
   ]
  },
  {
   "cell_type": "markdown",
   "id": "25c0a405-05af-4d8a-a87f-61e86191090e",
   "metadata": {},
   "source": [
    "### Variables"
   ]
  },
  {
   "cell_type": "markdown",
   "id": "b5b8a9c0-5d19-4779-9b82-d3525e7f720c",
   "metadata": {},
   "source": [
    ">Variables are containers for storing data values.\n",
    "> A variable is created the moment you first assign a value to it."
   ]
  },
  {
   "cell_type": "markdown",
   "id": "761bd748-49b9-4dcf-93cb-cce52d49121b",
   "metadata": {},
   "source": [
    "```python\n",
    ">>> x = 5\n",
    ">>> print(x)\n",
    "5\n",
    "```"
   ]
  },
  {
   "cell_type": "markdown",
   "id": "d9021906-8ed1-4192-9014-1fa8566c9035",
   "metadata": {},
   "source": [
    "### Variable Names"
   ]
  },
  {
   "cell_type": "markdown",
   "id": "c78ae786-da36-4240-a4a4-8da2c344fdd4",
   "metadata": {},
   "source": [
    ">A variable can have a short name (like x and y) or a more descriptive name (age, carname, total_volume). Rules for Python variables:"
   ]
  },
  {
   "cell_type": "markdown",
   "id": "bdd7b2e9-e8d8-4a14-9477-5873700af68b",
   "metadata": {},
   "source": [
    "- A variable name must start with a letter or the underscore character like --> ```_mynum```\n",
    "- A variable name cannot start with a number like --> ```2mynum = 5```\n",
    "- A variable name can only contain alpha-numeric characters and underscores ```(A-z, 0-9, and _ )```\n",
    "- Variable names are case-sensitive ```(age, Age and AGE are three different variables)```\n",
    "- A variable name cannot be any of the Python keywords like --> ```list, True, class, yield, ...```\n",
    "- Symbols are not used in any way like --> ```&num, num#, num*```"
   ]
  },
  {
   "cell_type": "markdown",
   "id": "fbd54a65-f035-43d2-87e7-5ef9e6e94e01",
   "metadata": {},
   "source": [
    "### Output Variables"
   ]
  },
  {
   "cell_type": "markdown",
   "id": "1a6ddbc6-166f-4670-bb97-a6eba5e658e1",
   "metadata": {},
   "source": [
    ">The Python ```print()``` function is often used to output variables."
   ]
  },
  {
   "cell_type": "markdown",
   "id": "8a3da6c0-55bd-4cc4-ab01-8949bac802de",
   "metadata": {},
   "source": [
    "```python\n",
    ">>> x = \"Python is awesome\"\n",
    ">>> print(x)\n",
    "Python is awesome\n",
    "```"
   ]
  },
  {
   "cell_type": "markdown",
   "id": "45e3ec7e-470d-4602-84dc-a8267034d77e",
   "metadata": {},
   "source": [
    ">You can also use the ```+``` operator to output multiple variables:"
   ]
  },
  {
   "cell_type": "markdown",
   "id": "f4d16cbd-03e7-46b9-9dd1-e96e4e6e5cac",
   "metadata": {},
   "source": [
    "```python\n",
    ">>> x = \"Python \"\n",
    ">>> y = \"is \"\n",
    ">>> z = \"awesome\"\n",
    ">>> print(x + y + z)\n",
    "Python is awesome\n",
    "```"
   ]
  },
  {
   "cell_type": "markdown",
   "id": "5adb1277-9353-42b3-9233-edfd5be82f4a",
   "metadata": {},
   "source": [
    "> In the ```print()``` function, when you try to combine a string and a number with the ```+``` operator, Python will give you an error:"
   ]
  },
  {
   "cell_type": "markdown",
   "id": "8fe4c310-08c8-4185-871e-aef0c5a1d77e",
   "metadata": {},
   "source": [
    "```python\n",
    ">>> x = 5\n",
    ">>> y = \"John\"\n",
    ">>> print(x + y)\n",
    "TypeError: unsupported operand type(s) for +: 'int' and 'str'\n",
    "```"
   ]
  },
  {
   "cell_type": "markdown",
   "id": "2c357f77-c3da-4c40-b9e7-a6831f1a1110",
   "metadata": {},
   "source": [
    "### Global Variables"
   ]
  },
  {
   "cell_type": "markdown",
   "id": "c8e18e41-f4da-4be8-a9fd-1336b98a48b8",
   "metadata": {},
   "source": [
    ">Variables that are created outside of a function are known as global variables.\n",
    "> Global variables can be used by everyone, both inside of functions and outside."
   ]
  },
  {
   "cell_type": "markdown",
   "id": "5108e189-3220-48fa-a367-e189e65d0324",
   "metadata": {},
   "source": [
    "```python\n",
    ">>> x = \"awesome\"\n",
    "\n",
    ">>> def myfunc():\n",
    ">>>   print(\"Python is \" + x)\n",
    ">>> myfunc()\n",
    "\n",
    "Python is awesome\n",
    "```"
   ]
  },
  {
   "cell_type": "markdown",
   "id": "e42be317-7498-41c3-9b32-cc5947e1ffc4",
   "metadata": {},
   "source": [
    "## Python Data Types"
   ]
  },
  {
   "cell_type": "markdown",
   "id": "20a86b4c-f9db-48f1-9d4b-651160e932ff",
   "metadata": {},
   "source": [
    "### Built-in Data Types"
   ]
  },
  {
   "cell_type": "markdown",
   "id": "4e76cabe-5817-4a9d-91ae-52e0684d0e5b",
   "metadata": {},
   "source": [
    "> In programming, data type is an important concept.\n",
    "\n",
    "> Variables can store data of different types, and different types can do different things.\n",
    "\n",
    "> Python has the following data types built-in by default, in these categories:"
   ]
  },
  {
   "cell_type": "markdown",
   "id": "84f1f51f-2ce4-4319-9d18-c2caacda6beb",
   "metadata": {},
   "source": [
    "- Text Type: \t```str```\n",
    "- Numeric Types:\t```int, float, complex```\n",
    "- Sequence Types:\t```list, tuple, range```\n",
    "- Mapping Type:\t```dict```\n",
    "- Set Types:\t```set, frozenset```\n",
    "- Boolean Type:\t```bool```\n",
    "- Binary Types:\t```bytes, bytearray, memoryview```\n",
    "- None Type:\t```NoneType```"
   ]
  },
  {
   "cell_type": "markdown",
   "id": "1eda5650-a59c-4674-b845-2450491c1f7b",
   "metadata": {},
   "source": [
    "### Getting the Data Type"
   ]
  },
  {
   "cell_type": "markdown",
   "id": "99a1e306-104a-41da-bd90-f1bb7ffd7c06",
   "metadata": {},
   "source": [
    ">You can get the data type of any object by using the ```type()``` function:"
   ]
  },
  {
   "cell_type": "markdown",
   "id": "9c49f284-a7a6-4ede-99d4-0f22691c0a19",
   "metadata": {},
   "source": [
    "```python\n",
    ">>> x = 5\n",
    ">>> print(type(x)) \n",
    "\n",
    "<class 'int'>\n",
    "```"
   ]
  },
  {
   "cell_type": "markdown",
   "id": "2bc318ed-ec54-4c37-9510-abadbd0d8062",
   "metadata": {},
   "source": [
    ">In Python, the data type is set when you assign a value to a variable:"
   ]
  },
  {
   "cell_type": "markdown",
   "id": "1a0c526b-7b76-45b3-87b5-f9f0e42e4965",
   "metadata": {},
   "source": [
    "| Example | DataType\t\n",
    "| :- | :- |\n",
    "| x = \"Hello World\" | str |\n",
    "| x = 20 |\tint\t|\n",
    "| x = 20.5 | float |\n",
    "| x = 1j |\tcomplex\t|\n",
    "| x = [\"apple\", \"banana\", \"cherry\"] | list |\t\n",
    "| x = (\"apple\", \"banana\", \"cherry\") | tuple |\n",
    "| x = range(6) |\trange\t\n",
    "| x = {\"name\" : \"John\", \"age\" : 36} | dict |\t\n",
    "| x = {\"apple\", \"banana\", \"cherry\"} | set\t|\n",
    "| x = frozenset({\"apple\", \"banana\", \"cherry\"}) | frozenset |\n",
    "| x = True | bool |\t\n",
    "| x = b\"Hello\" | bytes |\n",
    "| x = bytearray(5) | bytearray |\t\n",
    "| x = memoryview(bytes(5)) | memoryview\t|\n",
    "| x = None | NoneType|"
   ]
  },
  {
   "cell_type": "markdown",
   "id": "086a9444-c6c6-4b45-bd4b-87c5ab3db52b",
   "metadata": {},
   "source": [
    "**Note**: `Some data types can be converted to each other. For instance, you can convert int and float to str and also convert int to float, but you can not convert srt to int and float.`"
   ]
  },
  {
   "cell_type": "markdown",
   "id": "af1f9207-23ed-44cd-9832-3960088f4fc8",
   "metadata": {},
   "source": [
    "## Strings"
   ]
  },
  {
   "cell_type": "markdown",
   "id": "963cdbaa-e4c3-466d-ba2d-74b1a8180ccb",
   "metadata": {},
   "source": [
    ">Strings in python are surrounded by either single quotation marks, or double quotation marks.\n",
    "\n",
    ">`'hello'` is the same as `\"hello\"`."
   ]
  },
  {
   "cell_type": "markdown",
   "id": "9037c59b-ed8d-4f32-b343-b67251d00112",
   "metadata": {},
   "source": [
    "### Quotes Inside Quotes"
   ]
  },
  {
   "cell_type": "markdown",
   "id": "1b92e91e-25c1-456e-8a6d-467c15eb1822",
   "metadata": {},
   "source": [
    ">You can use quotes inside a string, as long as they don't match the quotes surrounding the string:"
   ]
  },
  {
   "cell_type": "markdown",
   "id": "c0e1addc-402d-4294-b97b-ee3345d85525",
   "metadata": {},
   "source": [
    "```python \n",
    ">>>print(\"This is 'Python'\")\n",
    "This is 'Python'\n",
    "```"
   ]
  },
  {
   "cell_type": "markdown",
   "id": "554f5b0f-321a-4636-8544-1f2548b6a495",
   "metadata": {},
   "source": [
    "### Multiline Strings"
   ]
  },
  {
   "cell_type": "markdown",
   "id": "148ba023-3ff4-4e53-81e6-8efe7b8c0265",
   "metadata": {},
   "source": [
    ">You can assign a multiline string to a variable by using three quotes (You can use three double quotes or three single quotes):"
   ]
  },
  {
   "cell_type": "markdown",
   "id": "511a4195-7f2b-4eea-a491-c7f7555277a9",
   "metadata": {},
   "source": [
    "```python\n",
    ">>> a = '''This is 'Python',\n",
    "Python is the best language.'''\n",
    ">>> print(a)\n",
    "This is 'Python',\n",
    "Python is the best language.\n",
    "```"
   ]
  },
  {
   "cell_type": "markdown",
   "id": "8c1efbbd-1539-47a8-9232-60ba03710374",
   "metadata": {},
   "source": [
    "### String Length"
   ]
  },
  {
   "cell_type": "markdown",
   "id": "9c888ef2-40ba-49f1-a354-378807e95da9",
   "metadata": {},
   "source": [
    ">To get the length of a string, use the len() function."
   ]
  },
  {
   "cell_type": "markdown",
   "id": "956c2798-19d2-4ebf-8db7-7179c5ae6b8a",
   "metadata": {},
   "source": [
    "```python\n",
    ">>> a = \"Hello, World!\"\n",
    ">>> print(len(a))\n",
    "13\n",
    "```"
   ]
  },
  {
   "cell_type": "markdown",
   "id": "767093ac-fc5f-432c-9586-57d89f3ab3d3",
   "metadata": {},
   "source": [
    "### Slicing"
   ]
  },
  {
   "cell_type": "markdown",
   "id": "22d67434-00c0-4950-9f30-6a4e965a4043",
   "metadata": {},
   "source": [
    ">You can return a range of characters by using the slice syntax.\n",
    ">Specify the start index and the end index, separated by a colon, to return a part of the string."
   ]
  },
  {
   "cell_type": "markdown",
   "id": "806ad486-67ee-498a-aacc-e22fd91cb408",
   "metadata": {},
   "source": [
    "```python\n",
    ">>> b = \"Hello, World!\"\n",
    ">>> print(b[2:5])\n",
    "llo\n",
    "```"
   ]
  },
  {
   "cell_type": "markdown",
   "id": "8bcd015d-1793-403f-baa0-470d47fa1798",
   "metadata": {},
   "source": [
    "```python\n",
    ">>> b = \"Hello, World!\"\n",
    ">>> print(b[:5])\n",
    "Hello\n",
    "```\n"
   ]
  },
  {
   "cell_type": "markdown",
   "id": "c83fbd75-25da-4b38-83f8-41aad6f1f51a",
   "metadata": {},
   "source": [
    "```python\n",
    ">>> b = \"Hello, World!\"\n",
    ">>> print(b[2:])\n",
    "llo, World!\n",
    "```"
   ]
  },
  {
   "cell_type": "markdown",
   "id": "92a25deb-3503-41a7-82db-5e0467aae516",
   "metadata": {},
   "source": [
    "### Negative Indexing"
   ]
  },
  {
   "cell_type": "markdown",
   "id": "58c9c360-a52d-4d88-afa5-0dc8c0147ff6",
   "metadata": {},
   "source": [
    ">Use negative indexes to start the slice from the end of the string:\n",
    "```python\n",
    ">>> b = \"Hello, World!\"\n",
    ">>> print(b[-5:-2])\n",
    "orl\n",
    "```"
   ]
  },
  {
   "cell_type": "markdown",
   "id": "c4c636af-e0a8-47b1-8bd8-aeb709371723",
   "metadata": {},
   "source": [
    "### Modify Strings"
   ]
  },
  {
   "cell_type": "markdown",
   "id": "73fd91f0-0435-4eef-be96-dd8176cd9da1",
   "metadata": {},
   "source": [
    ">Python has a set of built-in methods that you can use on strings."
   ]
  },
  {
   "cell_type": "markdown",
   "id": "5005de10-ff17-4929-8d90-4e8cafe511a8",
   "metadata": {},
   "source": [
    "- Upper Case"
   ]
  },
  {
   "cell_type": "markdown",
   "id": "27412e24-698c-4be6-85fa-f289d32c077f",
   "metadata": {},
   "source": [
    ">The `upper()` method returns the string in upper case:\n",
    "```python\n",
    ">>> a = \"Hello, World!\"\n",
    ">>> print(a.upper())\n",
    "HELLO, WORLD!\n",
    "```"
   ]
  },
  {
   "cell_type": "markdown",
   "id": "298f16bd-2443-4ce4-900b-c90fea2f6841",
   "metadata": {},
   "source": [
    "- Lower Case"
   ]
  },
  {
   "cell_type": "markdown",
   "id": "ebe464a8-d66e-495d-910b-22b6385ac016",
   "metadata": {},
   "source": [
    ">The `lower()` method returns the string in lower case:\n",
    "```python\n",
    ">>> a = \"Hello, World!\"\n",
    ">>> print(a.lower())\n",
    "hello, world!\n",
    "```"
   ]
  },
  {
   "cell_type": "markdown",
   "id": "1b78887c-1d9e-4c31-99e5-9d7736458d8b",
   "metadata": {},
   "source": [
    "- Remove Whitespace(strip)"
   ]
  },
  {
   "cell_type": "markdown",
   "id": "25f2a6c6-d521-473f-b8d0-6060f9ee1fdc",
   "metadata": {},
   "source": [
    ">`Whitespace` is the space before and/or after the actual text, and very often you want to remove this space.\n",
    "```python\n",
    ">>> a = \" Hello, World! \"\n",
    ">>> print(a.strip())\n",
    "​\n",
    "Hello, World!\n",
    "```"
   ]
  },
  {
   "cell_type": "markdown",
   "id": "f163c9cb-92b3-4c02-bf50-ff1a5282fe63",
   "metadata": {},
   "source": [
    "- Replace String"
   ]
  },
  {
   "cell_type": "markdown",
   "id": "61c2c358-fc37-430b-8f27-3005f3bda75f",
   "metadata": {},
   "source": [
    ">The `replace()` method replaces a string with another string:\n",
    "```python\n",
    ">>> a = \"Hello, World!\"\n",
    ">>> print(a.replace(\"H\", \"J\"))\n",
    "Jello, World!\n",
    "```"
   ]
  },
  {
   "cell_type": "markdown",
   "id": "396351d1-5b79-487a-8f53-fe8f6bcfc949",
   "metadata": {},
   "source": [
    "- Split String"
   ]
  },
  {
   "cell_type": "markdown",
   "id": "432ec47f-dcde-4153-915b-9d4e04865b1c",
   "metadata": {},
   "source": [
    ">The `split()` method returns a list where the text between the specified separator becomes the list items.\n",
    "```python\n",
    ">>> a = \"Hello, World!\"\n",
    ">>> b = a.split(\",\")\n",
    ">>> print(b)\n",
    "['Hello', ' World!']\n",
    "```"
   ]
  },
  {
   "cell_type": "markdown",
   "id": "af1cfffd-5e62-48ac-bbf5-5d53c782fa17",
   "metadata": {},
   "source": [
    "### String Format"
   ]
  },
  {
   "cell_type": "markdown",
   "id": "37f1fd2c-b1ce-4cf7-8f29-6b9712a8eb30",
   "metadata": {},
   "source": [
    ">As we learned in the Python Variables chapter, we cannot combine strings and numbers like this:\n",
    "\n",
    "```python\n",
    ">>> age = 36\n",
    ">>> txt = \"My name is John, I am \" + age\n",
    ">>> print(txt) \n",
    "Traceback (most recent call last):\n",
    "  File \"demo_string_format_error.py\", line 2, in <module>\n",
    "    txt = \"My name is John, I am \" + age\n",
    "TypeError: must be str, not int\n",
    "```"
   ]
  },
  {
   "cell_type": "markdown",
   "id": "697c3a1a-d54f-4ac4-a005-8eebe0297af8",
   "metadata": {},
   "source": [
    "- F-Strings"
   ]
  },
  {
   "cell_type": "markdown",
   "id": "75c0ab02-a0ac-4b9a-a49e-f82e3a23b320",
   "metadata": {},
   "source": [
    ">F-String was introduced in Python 3.6, and is now the preferred way of formatting strings.\n",
    ">To specify a string as an f-string, simply put an `f` in front of the string literal, and add curly brackets `{}` as placeholders for variables and other operations.\n",
    "```python\n",
    ">>> age = 36\n",
    ">>> txt = f\"My name is John, I am {age}\"\n",
    ">>> print(txt)\n",
    "My name is John, I am 36\n",
    "```"
   ]
  },
  {
   "cell_type": "markdown",
   "id": "77d58007-941a-43c5-b15c-8ad3512fda15",
   "metadata": {},
   "source": [
    "- Escape Character"
   ]
  },
  {
   "cell_type": "markdown",
   "id": "d37ece7f-554a-457b-a51d-a739ba01eb18",
   "metadata": {},
   "source": [
    ">To insert characters that are illegal in a string, use an escape character.\n",
    ">An escape character is a backslash `\\` followed by the character you want to insert.\n",
    "```python\n",
    ">>> txt = \"We are the so-called \\\"Vikings\\\" from the north.\"\n",
    ">>> print(txt)\n",
    "We are the so-called \"Vikings\" from the north.\n",
    "```"
   ]
  },
  {
   "cell_type": "markdown",
   "id": "07d591aa-45e6-4c64-996d-e10740cf98df",
   "metadata": {},
   "source": [
    ">Other escape characters used in Python:"
   ]
  },
  {
   "cell_type": "markdown",
   "id": "41b92024-a17f-4697-8b04-55e3e4b20e33",
   "metadata": {},
   "source": [
    "| Code | Result \n",
    "| :- | :- |\n",
    "| \\' |\tSingle Quote |\t\n",
    "| \\\\ |\tBackslash |\t\n",
    "| \\n |\tNew Line |\t\n",
    "| \\r |\tCarriage Return |\t\n",
    "| \\t |\tTab |\t\n",
    "| \\b |\tBackspace |\t\n",
    "| \\f |\tForm Feed |\t\n",
    "| \\ooo |\tOctal value |\t\n",
    "| \\xhh |\tHex value |"
   ]
  },
  {
   "cell_type": "markdown",
   "id": "62777721-ba3a-46fe-a365-f26298980046",
   "metadata": {},
   "source": [
    "### String Methods"
   ]
  },
  {
   "cell_type": "markdown",
   "id": "d6630f5e-b69e-4e27-aa46-c29a5b090b45",
   "metadata": {},
   "source": [
    ">Python has a set of built-in methods that you can use on strings. All string methods return new values. They do not change the original string."
   ]
  },
  {
   "cell_type": "markdown",
   "id": "b525b304-8a0b-426c-9db4-8f0bc6ca4b41",
   "metadata": {},
   "source": [
    "| Method | Description\n",
    "| :- | :- |\n",
    "| capitalize()| \tConverts the first character to upper case| \n",
    "| casefold()| \tConverts string into lower case| \n",
    "| center()| \tReturns a centered string| \n",
    "| count()| \tReturns the number of times a specified value occurs in a string| \n",
    "| encode()| \tReturns an encoded version of the string| \n",
    "| endswith()| \tReturns true if the string ends with the specified value| \n",
    "| expandtabs()| \tSets the tab size of the string| \n",
    "| find()| \tSearches the string for a specified value and returns the position of where it was found| \n",
    "| format()| \tFormats specified values in a string| \n",
    "| format_map()| \tFormats specified values in a string| \n",
    "| index()| \tSearches the string for a specified value and returns the position of where it was found| \n",
    "| isupper()| \tReturns True if all characters in the string are upper case| \n",
    "| join()| \tJoins the elements of an iterable to the end of the string| \n",
    "| ljust()| \tReturns a left justified version of the string| \n",
    "| lower()| \tConverts a string into lower case| \n",
    "| lstrip()| \tReturns a left trim version of the string| \n",
    "| replace()| \tReturns a string where a specified value is replaced with a specified value| \n",
    "| rfind()| \tSearches the string for a specified value and returns the last position of where it was found| \n",
    "| rindex()| \tSearches the string for a specified value and returns the last position of where it was found| \n",
    "| rsplit()| \tSplits the string at the specified separator, and returns a list| \n",
    "| rstrip()| \tReturns a right trim version of the string| \n",
    "| split()| \tSplits the string at the specified separator, and returns a list| \n",
    "| splitlines()| \tSplits the string at line breaks and returns a list| \n",
    "| startswith()| \tReturns true if the string starts with the specified value| \n",
    "| strip()| \tReturns a trimmed version of the string| \n",
    "| swapcase()| \tSwaps cases, lower case becomes upper case and vice versa| \n",
    "| title()| \tConverts the first character of each word to upper case| \n",
    "| translate()| \tReturns a translated string| \n",
    "| upper()| \tConverts a string into upper case| \n",
    "| zfill()| \tFills the string with a specified number of 0 values at the beginning| \n"
   ]
  },
  {
   "cell_type": "markdown",
   "id": "c429742d-8b41-4425-b562-f560ccecbfca",
   "metadata": {},
   "source": [
    "## Booleans"
   ]
  },
  {
   "cell_type": "markdown",
   "id": "6fdf8f27-ae96-4d1a-bdee-f568daba9221",
   "metadata": {},
   "source": [
    ">Booleans represent one of two values: `True` or `False`.\n",
    ">You can evaluate any expression in Python, and get one of two answers, `True` or `False`. When you compare two values, the expression is evaluated and Python returns the Boolean answer.\n",
    "```python\n",
    ">>> print(10 > 9)\n",
    ">>> print(10 == 9)\n",
    ">>> print(10 < 9)\n",
    "True\n",
    "False\n",
    "False\n",
    "```"
   ]
  },
  {
   "cell_type": "markdown",
   "id": "1a6496bd-f46e-4615-93ac-54cd86d85a6b",
   "metadata": {},
   "source": [
    ">The following will return False:\n",
    "```python\n",
    "bool(False)\n",
    "bool(None)\n",
    "bool(0)\n",
    "bool(\"\")\n",
    "bool(())\n",
    "bool([])\n",
    "bool({})\n",
    "```"
   ]
  },
  {
   "cell_type": "markdown",
   "id": "58f8d2cf-7ac5-48c5-b84b-6fc7a844b947",
   "metadata": {},
   "source": [
    "## Python Operators"
   ]
  },
  {
   "cell_type": "markdown",
   "id": "45680ae8-9ab9-4c7f-924e-b9d55df0ce96",
   "metadata": {},
   "source": [
    "Operators are used to perform operations on variables and values.\n",
    "Python divides the operators in the following groups:\n",
    "- Arithmetic operators\n",
    "- Assignment operators\n",
    "- Comparison operators\n",
    "- Logical operators\n",
    "- Identity operators\n",
    "- Membership operators\n",
    "- Bitwise operators"
   ]
  },
  {
   "cell_type": "markdown",
   "id": "7f4d2c37-8005-4606-b6fa-2863e213b8f5",
   "metadata": {},
   "source": [
    "### Python Arithmetic Operators"
   ]
  },
  {
   "cell_type": "markdown",
   "id": "ce7dce82-931a-4a53-a47c-d9d80a4ffd71",
   "metadata": {},
   "source": [
    "Arithmetic operators are used with numeric values to perform common mathematical operations:"
   ]
  },
  {
   "cell_type": "markdown",
   "id": "753caf24-c1a9-4bb1-a215-124c2e0eb469",
   "metadata": {},
   "source": [
    "| Operator | Name |\tExample\n",
    "| --- | :- | :- |\n",
    "| + | Addition | x + y |\t\n",
    "| - | Subtraction |\tx - y |\t\n",
    "| * | Multiplication |\tx * y |\t\n",
    "| / | Division |\tx / y |\t\n",
    "| % | Modulus |\tx % y |\t\n",
    "| ** | Exponentiation |\tx ** y |\t\n",
    "| // | Floor division |\tx // y |"
   ]
  },
  {
   "cell_type": "markdown",
   "id": "5fb21327-f28e-4c6f-bb1b-9bf6b7df2e52",
   "metadata": {},
   "source": [
    "### Python Assignment Operators"
   ]
  },
  {
   "cell_type": "markdown",
   "id": "059f4c76-559b-4e0e-b796-e15b1f4623ca",
   "metadata": {},
   "source": [
    "Assignment operators are used to assign values to variables:"
   ]
  },
  {
   "cell_type": "markdown",
   "id": "62a83d35-757f-4549-8ea9-db9662168ce9",
   "metadata": {},
   "source": [
    "| Operator |\tExample |\tSame As\n",
    "| --- | :- | :- |\n",
    "| = |\tx = 5 |\tx = 5 |\t\n",
    "| += |\tx += 3 |\tx = x + 3 |\t\n",
    "| -= |\tx -= 3 |\tx = x - 3 |\t\n",
    "| *= |\tx *= 3 |\tx = x * 3 |\t\n",
    "| /= |\tx /=  |\tx = x / 3 |\t\n",
    "| %= |\tx %= 3 |\tx = x % 3 |\t\n",
    "| //= |\tx //= 3 |\tx = x // 3 |\t\n",
    "| **= |\tx **= 3 |\tx = x ** 3 |\t\n",
    "| &= |\tx &= 3 |\tx = x & 3 |\t\t\n",
    "| ^= |\tx ^= 3 |\tx = x ^ 3 |\t\n",
    "| >>= |\tx >>= 3 |\tx = x >> 3 |\t\n",
    "| <<= |\tx <<= 3 |\tx = x << 3 |\t\n",
    "| := |\tprint(x := 3) |\tx = 3  print(x)|"
   ]
  },
  {
   "cell_type": "markdown",
   "id": "5b70ad0f-9c9c-473c-be86-b9c13fec450f",
   "metadata": {},
   "source": [
    "### Python Comparison Operators"
   ]
  },
  {
   "cell_type": "markdown",
   "id": "6546bbab-38ce-4962-a336-62561cb1cf72",
   "metadata": {},
   "source": [
    "Comparison operators are used to compare two values:"
   ]
  },
  {
   "cell_type": "markdown",
   "id": "de4fba8e-7d75-4986-93bd-d866b884bd09",
   "metadata": {},
   "source": [
    "| Operator | Name |\tExample\t\n",
    "| --- | :- | :- |\n",
    "| == | Equal | x == y |\t\n",
    "| != | Not equal |\tx != y |\t\n",
    "| > | Greater than | x > y |\t\n",
    "| < | Less than | x < y |\t\n",
    "| >= | Greater than or equal to | x >= y |\t\n",
    "| <= | Less than or equal to | x <= y |"
   ]
  },
  {
   "cell_type": "markdown",
   "id": "505d4fec-ebba-4fa0-be8a-5fe4577c9eac",
   "metadata": {},
   "source": [
    "### Python Logical Operators"
   ]
  },
  {
   "cell_type": "markdown",
   "id": "ead37323-be09-4640-a683-a47c4e12460b",
   "metadata": {},
   "source": [
    "Logical operators are used to combine conditional statements:"
   ]
  },
  {
   "cell_type": "markdown",
   "id": "b5a0e3ea-c55d-41b3-968d-cfdc9d63dc26",
   "metadata": {},
   "source": [
    "| Operator |\tDescription |\tExample\t\n",
    "| --- | :- | :- |\n",
    "| and | \tReturns True if both statements are true |\tx < 5 and  x < 10 |\t\n",
    "| or |\tReturns True if one of the statements is true |\tx < 5 or x < 4 |\t\n",
    "| not |\tReverse the result, returns False if the result is true |\tnot(x < 5 and x < 10) |"
   ]
  },
  {
   "cell_type": "markdown",
   "id": "56b95a2a-b6b3-4485-8158-ebfb212e569b",
   "metadata": {},
   "source": [
    "### Python Identity Operators"
   ]
  },
  {
   "cell_type": "markdown",
   "id": "94d809d2-d44b-47b0-b880-da9fde4808ee",
   "metadata": {},
   "source": [
    "Identity operators are used to compare the objects, not if they are equal, but if they are actually the same object, with the same memory location."
   ]
  },
  {
   "cell_type": "markdown",
   "id": "70efc205-4ddc-439a-b09a-b7dfbfa3bf00",
   "metadata": {},
   "source": [
    "| Operator |\tDescription |\tExample\t\n",
    "| --- | :- | :- |\n",
    "| is | \tReturns True if both variables are the same object |\tx is y |\t\n",
    "| is not |\tReturns True if both variables are not the same object |\tx is not y |"
   ]
  },
  {
   "cell_type": "markdown",
   "id": "93da6767-3c4a-40ce-be0b-b46aa499ef1e",
   "metadata": {},
   "source": [
    "### Python Membership Operators"
   ]
  },
  {
   "cell_type": "markdown",
   "id": "f9f810ba-c902-4908-88ee-31b83aac18f3",
   "metadata": {},
   "source": [
    "Membership operators are used to test if a sequence is presented in an object."
   ]
  },
  {
   "cell_type": "markdown",
   "id": "58dbcff0-d2e7-4bb6-80bd-167371f4faf4",
   "metadata": {},
   "source": [
    "| Operator |\tDescription |\tExample\t\n",
    "| --- | :- | :- |\n",
    "| in | \tReturns True if a sequence with the specified value is present in the object |\tx in y |\t\n",
    "| not in |\tReturns True if a sequence with the specified value is not present in the object |\tx not in y |"
   ]
  },
  {
   "cell_type": "markdown",
   "id": "7ff36d38-a357-4f32-84ca-7f9a3426dbdd",
   "metadata": {},
   "source": [
    "### Python Bitwise Operators"
   ]
  },
  {
   "cell_type": "markdown",
   "id": "e9c85dee-475a-4c80-854a-5abcce2ec17f",
   "metadata": {},
   "source": [
    "Bitwise operators are used to compare (binary) numbers."
   ]
  },
  {
   "cell_type": "markdown",
   "id": "65a0e94a-1fb9-49dd-9d94-d8e78d82bbe4",
   "metadata": {},
   "source": [
    "| Operator |\tName |\tDescription |\tExample\t\n",
    "| --- | :- | :- | :- |\n",
    "| & | \tAND |\tSets each bit to 1 if both bits are 1 |\tx & y |\t\n",
    "| | |\tOR |\tSets each bit to 1 if one of two bits is 1 |\tx | y |\t\n",
    "| ^ |\tXOR |\tSets each bit to 1 if only one of two bits is 1 |\tx ^ y |\t\n",
    "| ~ |\tNOT |\tInverts all the bits |\t~x |\t\n",
    "| << |\tZero fill left shift |\tShift left by pushing zeros in from the right and let the leftmost bits fall off |\tx << 2 |\t\n",
    "| >> |\tSigned right shift |\tShift right by pushing copies of the leftmost bit in from the left, and let the rightmost bits fall off |\tx >> 2 |"
   ]
  },
  {
   "cell_type": "markdown",
   "id": "4a9df18a-c76c-45cd-bf15-c6115e60eaea",
   "metadata": {},
   "source": [
    "## Collections"
   ]
  },
  {
   "cell_type": "markdown",
   "id": "fc3ca1e2-d7ee-42ee-bca8-ea0c0662d623",
   "metadata": {},
   "source": [
    "**There are 4 built-in collections in python**:\n",
    "- **List** is a collection which is ordered and changeable. Allows duplicate members.\n",
    "- **Tuple** is a collection which is ordered and unchangeable. Allows duplicate members.\n",
    "- **Set** is a collection which is unordered, unchangeable*, and unindexed. No duplicate members.\n",
    "- **Dictionary** is a collection which is ordered** and changeable. No duplicate members.\n",
    "\n",
    "*Set items are unchangeable, but you can remove and/or add items whenever you like."
   ]
  },
  {
   "cell_type": "markdown",
   "id": "7d8d92b3-b568-4d25-830d-39f2ee5b13c9",
   "metadata": {},
   "source": [
    "**As of Python version 3.7, dictionaries are ordered. In Python 3.6 and earlier, dictionaries are unordered."
   ]
  },
  {
   "cell_type": "markdown",
   "id": "e036b2a1-e07c-4947-bd78-7a97624978e8",
   "metadata": {},
   "source": [
    "### List"
   ]
  },
  {
   "cell_type": "markdown",
   "id": "331748a5-ecfc-495d-b35c-2ff1e706146c",
   "metadata": {},
   "source": [
    "Lists are used to store multiple items in a single variable. Lists are created using `square brackets []`.\n",
    "```python\n",
    ">>> thislist = [\"apple\", \"banana\", \"cherry\"]\n",
    ">>> print(thislist)\n",
    ">>> print(type(thislist))\n",
    ">>> print(len(thislist))\n",
    "[\"apple\", \"banana\", \"cherry\"]\n",
    "<class 'list'>\n",
    "3\n",
    "```"
   ]
  },
  {
   "cell_type": "markdown",
   "id": "aef6be93-9ed8-41d4-854c-3606471de25c",
   "metadata": {},
   "source": [
    "### List Methods"
   ]
  },
  {
   "cell_type": "markdown",
   "id": "fd71830f-2d83-4c6d-96e6-015e6b35678e",
   "metadata": {},
   "source": [
    "Python has a set of built-in methods that you can use on lists."
   ]
  },
  {
   "cell_type": "markdown",
   "id": "f96718a9-ed29-424e-aaa3-99c5202baa3a",
   "metadata": {},
   "source": [
    "| Method |\tDescription\n",
    "| --- | :- |\n",
    "| append() |\tAdds an element at the end of the list |\n",
    "| clear() |\tRemoves all the elements from the list |\n",
    "| copy() |\tReturns a copy of the list |\n",
    "| count() |\tReturns the number of elements with the specified value |\n",
    "| extend() |\tAdd the elements of a list (or any iterable), to the end of the current list |\n",
    "| index() |\tReturns the index of the first element with the specified value |\n",
    "| insert() |\tAdds an element at the specified position |\n",
    "| pop() |\tRemoves the element at the specified position |\n",
    "| remove() |\tRemoves the item with the specified value |\n",
    "| reverse() |\tReverses the order of the list |\n",
    "| sort() |\tSorts the list |"
   ]
  },
  {
   "cell_type": "markdown",
   "id": "67a33528-ee4d-4f3b-9d66-dd8eea82a8ec",
   "metadata": {},
   "source": [
    "- **append()**\n",
    "```python\n",
    ">>> thislist = [\"apple\", \"banana\", \"cherry\"]\n",
    ">>> thislist.append(\"orange\")\n",
    ">>> print(thislist)\n",
    "[\"apple\", \"banana\", \"cherry\", \"orange\"]\n",
    "```"
   ]
  },
  {
   "cell_type": "markdown",
   "id": "b2f068fd-88fc-4d3f-81d1-317893465bd0",
   "metadata": {},
   "source": [
    "- **remove()**\n",
    "```python\n",
    ">>> thislist = [\"apple\", \"banana\", \"cherry\", \"banana\", \"kiwi\"]\n",
    ">>> thislist.remove(\"banana\")\n",
    ">>> print(thislist)\n",
    "[\"apple\", \"cherry\", \"banana\", \"kiwi\"]\n",
    "```"
   ]
  },
  {
   "cell_type": "markdown",
   "id": "b0b86229-95df-410a-9ad4-0454ad795df9",
   "metadata": {},
   "source": [
    "- **pop()**\n",
    "```python\n",
    ">>> thislist = [\"apple\", \"banana\", \"cherry\"]\n",
    ">>> thislist.pop()\n",
    ">>> print(thislist)\n",
    "[\"apple\", \"banana\"]\n",
    "```"
   ]
  },
  {
   "cell_type": "markdown",
   "id": "d79360b0-d221-4445-8262-77a566a79e9a",
   "metadata": {},
   "source": [
    "- **del**\n",
    "```python\n",
    ">>> thislist = [\"apple\", \"banana\", \"cherry\"]\n",
    ">>> del thislist\n",
    ">>> print(thislist) #this will cause an error because you have succsesfully deleted \"thislist\".\n",
    "Traceback (most recent call last):\n",
    "  File \"demo_list_del2.py\", line 3, in <module>\n",
    "    print(thislist) #this will cause an error because you have succsesfully deleted \"thislist\".\n",
    "NameError: name 'thislist' is not define\n",
    "```"
   ]
  },
  {
   "cell_type": "markdown",
   "id": "e00f5f7b-5f5a-474b-a023-821171f55d0f",
   "metadata": {},
   "source": [
    "- **clear()**\n",
    "```python\n",
    ">>> thislist = [\"apple\", \"banana\", \"cherry\"]\n",
    ">>> thislist.clear()\n",
    ">>> print(thislist)\n",
    "[]\n",
    "```"
   ]
  },
  {
   "cell_type": "markdown",
   "id": "ca6f755a-3bee-4732-bc81-3c9878977d65",
   "metadata": {},
   "source": [
    "- **sort()**\n",
    "```python\n",
    ">>> thislist = [\"orange\", \"mango\", \"kiwi\", \"pineapple\", \"banana\"]\n",
    ">>> thislist.sort()\n",
    ">>> print(thislist)\n",
    "[\"banana\", \"kiwi\", \"mango\", \"orange\", \"pineapple\"]\n",
    "```"
   ]
  },
  {
   "cell_type": "markdown",
   "id": "2a7811a7-4d36-4473-90f7-9ba902405d72",
   "metadata": {},
   "source": [
    "- **copy()**\n",
    "```python\n",
    ">>> thislist = [\"apple\", \"banana\", \"cherry\"]\n",
    ">>> mylist = thislist.copy()\n",
    ">>> print(mylist)\n",
    "[\"apple\", \"banana\", \"cherry\"]\n",
    "```"
   ]
  },
  {
   "cell_type": "markdown",
   "id": "99dbcd21-7e1c-4f5f-b915-bdc387699639",
   "metadata": {},
   "source": [
    "- **join()**\n",
    "```python\n",
    ">>> list1 = [\"a\", \"b\", \"c\"]\n",
    ">>> list2 = [1, 2, 3]\n",
    ">>> list3 = list1 + list2\n",
    ">>> print(list3)\n",
    "[\"a\", \"b\", \"c\", 1, 2, 3]\n",
    "```"
   ]
  },
  {
   "cell_type": "markdown",
   "id": "e2062d8f-bb71-47b0-9a75-4de9b19f7e7c",
   "metadata": {},
   "source": [
    "### Tuple"
   ]
  },
  {
   "cell_type": "markdown",
   "id": "35ae4e83-4571-468d-8e17-a22517fb2001",
   "metadata": {},
   "source": [
    "Tuples are used to store multiple items in a single variable. A tuple is a collection which is ordered and `unchangeable`.\n",
    "Tuple items are indexed, the first item has index [0], the second item has index [1] etc."
   ]
  },
  {
   "cell_type": "markdown",
   "id": "d064e3c5-145e-4e98-89ca-cc42d575ff47",
   "metadata": {},
   "source": [
    "You can access tuple items by referring to the index number, inside square brackets:\n",
    "```python\n",
    ">>> thistuple = (\"apple\", \"banana\", \"cherry\")\n",
    ">>> print(thistuple[1])\n",
    "banana\n",
    "```"
   ]
  },
  {
   "cell_type": "markdown",
   "id": "b8296da4-470a-41e2-b8fa-d25fd88ed8c9",
   "metadata": {},
   "source": [
    "Negative indexing means start from the end.\n",
    "`-1` refers to the `last item`, `-2` refers to the `second last` item etc.\n",
    "```python\n",
    ">>> thistuple = (\"apple\", \"banana\", \"cherry\")\n",
    ">>> print(thistuple[-1])\n",
    "cherry\n",
    "```"
   ]
  },
  {
   "cell_type": "markdown",
   "id": "6492a785-0aed-4ab4-a704-aa69b13afa17",
   "metadata": {},
   "source": [
    "#### Range of Indexes"
   ]
  },
  {
   "cell_type": "markdown",
   "id": "10fcd193-5dc7-42ad-8ad2-3f8b05a91717",
   "metadata": {},
   "source": [
    "You can specify a range of indexes by specifying where to start and where to end the range.\n",
    "When specifying a range, the return value will be a new tuple with the specified items.\n",
    "```python\n",
    ">>> thistuple = (\"apple\", \"banana\", \"cherry\", \"orange\", \"kiwi\", \"melon\", \"mango\")\n",
    ">>> print(thistuple[2:5])\n",
    "#This will return the items from position 2 to 5.\n",
    "#Remember that the first item is position 0,\n",
    "#and note that the item in position 5 is NOT included\n",
    "(\"cherry\", \"orange\", \"kiwi\")\n",
    "```"
   ]
  },
  {
   "cell_type": "markdown",
   "id": "8332a431-645b-4189-9a01-2b0ffe467da1",
   "metadata": {},
   "source": [
    "### Tuple Methods"
   ]
  },
  {
   "cell_type": "markdown",
   "id": "bd95623c-2125-4937-a3cc-738c89b61a55",
   "metadata": {},
   "source": [
    "Python has two built-in methods that you can use on tuples."
   ]
  },
  {
   "cell_type": "markdown",
   "id": "e30b9159-cf13-45fa-a032-3ebde2b8287a",
   "metadata": {},
   "source": [
    "| Method |\tDescription\n",
    "| --- | :- |\n",
    "| count() |\tReturns the number of times a specified value occurs in a tuple |\n",
    "| index() |\tSearches the tuple for a specified value and returns the position of where it was found |"
   ]
  },
  {
   "cell_type": "markdown",
   "id": "df0c7044-aa39-4349-ac19-b5f5577f1460",
   "metadata": {},
   "source": [
    "### Set"
   ]
  },
  {
   "cell_type": "markdown",
   "id": "61ace69b-34e4-405e-a62e-534347254ad6",
   "metadata": {},
   "source": [
    "Sets are used to store multiple items in a single variable and are written with `curly brackets`. A set is a collection which is unordered, unchangeable*, and unindexed.\n",
    "* Note: Set items are unchangeable, but you can remove items and add new items."
   ]
  },
  {
   "cell_type": "markdown",
   "id": "fda02ff3-6300-43ad-aa76-76ce0fb1eff0",
   "metadata": {},
   "source": [
    "To add one item to a set use the `add()` method.\n",
    "```python\n",
    ">>> thisset = {\"apple\", \"banana\", \"cherry\"}\n",
    ">>> thisset.add(\"orange\")\n",
    ">>> print(thisset)\n",
    "{'orange', 'banana', 'cherry', 'apple'}\n",
    "```"
   ]
  },
  {
   "cell_type": "markdown",
   "id": "aeb65077-5445-4cfd-a627-eeb3853f2806",
   "metadata": {},
   "source": [
    "To add items from another set into the current set, use the `update()` method.\n",
    "```python\n",
    ">>> thisset = {\"apple\", \"banana\", \"cherry\"}\n",
    ">>> tropical = {\"pineapple\", \"mango\", \"papaya\"}\n",
    ">>> thisset.update(tropical)\n",
    ">>> print(thisset)\n",
    "{'cherry', 'mango', 'banana', 'apple', 'pineapple', 'papaya'}\n",
    "```"
   ]
  },
  {
   "cell_type": "markdown",
   "id": "9c0c5104-e881-4473-bd6e-1b5731f8f5f1",
   "metadata": {},
   "source": [
    "To remove an item in a set, use the `remove()`, or the `discard()` method.\n",
    "```python\n",
    ">>> thisset = {\"apple\", \"banana\", \"cherry\"}\n",
    ">>> thisset.remove(\"banana\")\n",
    ">>> print(thisset)\n",
    "{'apple', 'cherry'}\n",
    "```"
   ]
  },
  {
   "cell_type": "markdown",
   "id": "205a76db-af03-4285-b6f6-0aa21a41a52f",
   "metadata": {},
   "source": [
    "#### Join Sets"
   ]
  },
  {
   "cell_type": "markdown",
   "id": "2938ebff-0d13-4696-ac6d-8f55a932b7b2",
   "metadata": {},
   "source": [
    "There are several ways to join two or more sets in Python.\n",
    "\n",
    "The `union()` and `update()` methods joins all items from both sets.\n",
    "\n",
    "The `intersection()` method keeps ONLY the duplicates.\n",
    "\n",
    "The `difference()` method keeps the items from the first set that are not in the other set(s).\n",
    "\n",
    "The `symmetric_difference()`method keeps all items EXCEPT the duplicates."
   ]
  },
  {
   "cell_type": "markdown",
   "id": "318bcf31-4473-4771-8417-48927bed7b91",
   "metadata": {},
   "source": [
    "- Union:\n",
    "\n",
    "The union() method returns a new set with all items from both sets.\n",
    "```python\n",
    ">>> set1 = {\"a\", \"b\", \"c\"}\n",
    ">>> set2 = {1, 2, 3}\n",
    ">>> set3 = set1.union(set2)\n",
    ">>> print(set3)\n",
    "{3, 'b', 2, 'a', 'c', 1}\n",
    "```\n",
    "Also you can use `|` to join two sets."
   ]
  },
  {
   "cell_type": "markdown",
   "id": "e2973ffe-bd7d-4aef-8eeb-64034f0e1f4b",
   "metadata": {},
   "source": [
    "- Intersection\n",
    "\n",
    "The intersection() method will return a new set, that only contains the items that are present in both sets.\n",
    "```python\n",
    ">>> set1 = {\"apple\", \"banana\", \"cherry\"}\n",
    ">>> set2 = {\"google\", \"microsoft\", \"apple\"}\n",
    ">>> set3 = set1.intersection(set2)\n",
    ">>> print(set3)\n",
    "{'apple'}\n",
    "```\n",
    "You can use the `&` operator instead of the intersection() method, and you will get the same result."
   ]
  },
  {
   "cell_type": "markdown",
   "id": "e7747d5e-5423-40c6-a2de-c6f5f7a087a3",
   "metadata": {},
   "source": [
    "- Difference\n",
    "\n",
    "The difference() method will return a new set that will contain only the items from the first set that are not present in the other set.\n",
    "```python\n",
    ">>> set1 = {\"apple\", \"banana\", \"cherry\"}\n",
    ">>> set2 = {\"google\", \"microsoft\", \"apple\"}\n",
    ">>> set3 = set1.difference(set2)\n",
    ">>> print(set3)\n",
    "{'banana', 'cherry'}\n",
    "```\n",
    "You can use the `-` operator instead of the difference() method, and you will get the same result."
   ]
  },
  {
   "cell_type": "markdown",
   "id": "b0f0c686-9d48-4d5d-bed5-7f8e0a799893",
   "metadata": {},
   "source": [
    "- Symmetric Differences\n",
    "\n",
    "The symmetric_difference() method will keep only the elements that are NOT present in both sets.\n",
    "```python\n",
    ">>> set1 = {\"apple\", \"banana\" , \"cherry\"}\n",
    ">>> set2 = {\"google\", \"microsoft\", \"apple\"}\n",
    ">>> set3 = set1.symmetric_difference(set2)\n",
    ">>> print(set3)\n",
    "{'google', 'banana', 'microsoft', 'cherry'}\n",
    "```\n",
    "You can use the `^` operator instead of the symmetric_difference() method, and you will get the same result."
   ]
  },
  {
   "cell_type": "markdown",
   "id": "c9da4ddf-248b-4416-b54a-9a6b990a669b",
   "metadata": {},
   "source": [
    "### Set Methods"
   ]
  },
  {
   "cell_type": "markdown",
   "id": "04756868-ac13-43f1-ae37-0bbc12deb36c",
   "metadata": {},
   "source": [
    "| Method |\tShortcut |\tDescription\n",
    "| --- | :- | :- |\n",
    "| add() |\t \t|Adds an element to the set |\n",
    "| clear() |\t \t|Removes all the elements from the set |\n",
    "| copy() |\t \t|Returns a copy of the set |\n",
    "| difference() |\t- |\tReturns a set containing the difference between two or more sets |\n",
    "| difference_update() |\t-= |\tRemoves the items in this set that are also included in another, specified set |\n",
    "| discard() |\t \t|Remove the specified item |\n",
    "| intersection() |\t& |\tReturns a set, that is the intersection of two other sets\n",
    "| intersection_update() |\t&= |\tRemoves the items in this set that are not present in other, specified set(s) |\n",
    "| isdisjoint() |\t \t|Returns whether two sets have a intersection or not |\n",
    "| issubset() |\t<= |\tReturns whether another set contains this set or not |\n",
    "|  \t |< |\tReturns whether all items in this set is present in other, specified set(s) |\n",
    "| issuperset() |\t>= |\tReturns whether this set contains another set or not |\n",
    "|  \t |> |\tReturns whether all items in other, specified set(s) is present in this set |\n",
    "| pop() |\t \t|Removes an element from the set |\n",
    "| remove() |\t \t|Removes the specified element |\n",
    "| symmetric_difference() |\t^ |\tReturns a set with the symmetric differences of two sets |\n",
    "| symmetric_difference_update() |\t^= |\tInserts the symmetric differences from this set and another |"
   ]
  },
  {
   "cell_type": "markdown",
   "id": "9dea376b-c5c7-4def-8ec9-3df6be580e14",
   "metadata": {},
   "source": [
    "### Dictionary"
   ]
  },
  {
   "cell_type": "markdown",
   "id": "27147762-8208-4e62-96f9-5da6b2a24792",
   "metadata": {},
   "source": [
    "Dictionaries are used to store data values in `key:value pairs` and are written with `curly brackets`, and have keys and values.\n",
    "A dictionary is a collection which is ordered*, changeable and do not allow duplicates.\n",
    "```python\n",
    ">>> thisdict = {\n",
    ">>>   \"brand\": \"Ford\",\n",
    ">>>   \"model\": \"Mustang\",\n",
    ">>>   \"year\": 1964\n",
    ">>> }\n",
    ">>> print(type(thisdict))\n",
    ">>> print(len(thisdict))\n",
    "<class 'dict'>\n",
    "3\n",
    "```"
   ]
  },
  {
   "cell_type": "markdown",
   "id": "9e0105b5-160a-4d81-bc3c-d2c860b5ada9",
   "metadata": {},
   "source": [
    "- Accessing Items\n",
    "\n",
    "You can access the items of a dictionary by referring to its `key name`, inside square brackets.\n",
    "```python\n",
    ">>> thisdict =  {\n",
    ">>>   \"brand\": \"Ford\",\n",
    ">>>   \"model\": \"Mustang\",\n",
    ">>>   \"year\": 1964\n",
    ">>> }\n",
    ">>> x = thisdict[\"model\"]\n",
    ">>> print(x)\n",
    "Mustang\n",
    "```\n",
    "There is also a method called `get()` that will give you the same result.\n",
    "```python\n",
    ">>> x = thisdict.get(\"model\")\n",
    "```"
   ]
  },
  {
   "cell_type": "markdown",
   "id": "1e6cb348-193b-492e-9c62-6db74963a82a",
   "metadata": {},
   "source": [
    "- Get Keys\n",
    "\n",
    "The `keys()` method will return a list of all the keys in the dictionary.\n",
    "```python\n",
    ">>> thisdict = {\n",
    ">>>   \"brand\": \"Ford\",\n",
    ">>>   \"model\": \"Mustang\",\n",
    ">>>   \"year\": 1964\n",
    ">>> }\n",
    ">>> x = thisdict.keys()\n",
    ">>> print(x)\n",
    "dict_keys(['brand', 'model', 'year'])\n",
    "```"
   ]
  },
  {
   "cell_type": "markdown",
   "id": "904809bb-4c5f-4ca1-bb0f-5e63c4f46a57",
   "metadata": {},
   "source": [
    "- Get Values\n",
    "\n",
    "The `values()` method will return a list of all the values in the dictionary.\n",
    "```python\n",
    ">>> thisdict = {\n",
    ">>>   \"brand\": \"Ford\",\n",
    ">>>   \"model\": \"Mustang\",\n",
    ">>>   \"year\": 1964\n",
    ">>> }\n",
    ">>> x = thisdict.values()\n",
    ">>> print(x)\n",
    "dict_values(['Ford', 'Mustang', 1964])\n",
    "```"
   ]
  },
  {
   "cell_type": "markdown",
   "id": "ec161851-391f-41fb-8e4a-9cbd267a1311",
   "metadata": {},
   "source": [
    "- Get Items\n",
    "\n",
    "The `items()` method will return each item in a dictionary, as tuples in a list.\n",
    "Get a list of the `key:value pairs`.\n",
    "```python\n",
    ">>> thisdict = {\n",
    ">>>   \"brand\": \"Ford\",\n",
    ">>>   \"model\": \"Mustang\",\n",
    ">>>   \"year\": 1964\n",
    ">>> }\n",
    ">>> x = thisdict.items()\n",
    ">>> print(x)\n",
    "dict_items([('brand', 'Ford'), ('model', 'Mustang'), ('year', 1964)])\n",
    "```"
   ]
  },
  {
   "cell_type": "markdown",
   "id": "ac802890-62b8-4e22-89d4-933b10e58127",
   "metadata": {},
   "source": [
    "- Check `if Key Exists`\n",
    "\n",
    "To determine if a specified key is present in a dictionary use the `in` keyword.\n",
    "```python\n",
    ">>> thisdict = {\n",
    ">>>   \"brand\": \"Ford\",\n",
    ">>>   \"model\": \"Mustang\",\n",
    ">>>   \"year\": 1964\n",
    ">>> }\n",
    ">>> if \"model\" in thisdict:\n",
    ">>>   print(\"Yes, 'model' is one of the keys in the thisdict dictionary\")\n",
    "Yes, 'model' is one of the keys in the thisdict dictionary\n",
    "```"
   ]
  },
  {
   "cell_type": "markdown",
   "id": "0e0bb883-af19-4ff3-871e-961a22c91f71",
   "metadata": {},
   "source": [
    "- Change Values\n",
    "\n",
    "You can change the value of a specific item by referring to its key name.\n",
    "```python\n",
    ">>> thisdict =  {\n",
    ">>>   \"brand\": \"Ford\",\n",
    ">>>   \"model\": \"Mustang\",\n",
    ">>>   \"year\": 1964\n",
    ">>> }\n",
    ">>> thisdict[\"year\"] = 2018\n",
    ">>> print(thisdict)\n",
    "{'brand': 'Ford', 'model': 'Mustang', 'year': 2018}\n",
    "```"
   ]
  },
  {
   "cell_type": "markdown",
   "id": "79d26551-7617-4e7e-8a44-697ab05b30e9",
   "metadata": {},
   "source": [
    "- Adding Items \n",
    "\n",
    "Adding an item to the dictionary is done by using a new index key and assigning a value to it.\n",
    "```python\n",
    ">>> thisdict =  {\n",
    ">>>   \"brand\": \"Ford\",\n",
    ">>>   \"model\": \"Mustang\",\n",
    ">>>   \"year\": 1964\n",
    ">>> }\n",
    ">>> thisdict[\"color\"] = \"red\"\n",
    ">>> print(thisdict)\n",
    "{'brand': 'Ford', 'model': 'Mustang', 'year': 1964, 'color': 'red'}\n",
    "```"
   ]
  },
  {
   "cell_type": "markdown",
   "id": "5a180af9-61ef-4ccc-b207-fa1f10711564",
   "metadata": {},
   "source": [
    "- Removing Items\n",
    "\n",
    "There are several methods to remove items from a dictionary. The `pop()` method removes the item with the specified key name\n",
    "```python\n",
    ">>> thisdict =  {\n",
    ">>>   \"brand\": \"Ford\",\n",
    ">>>   \"model\": \"Mustang\",\n",
    ">>>   \"year\": 1964\n",
    ">>> }\n",
    ">>> thisdict.pop(\"model\")\n",
    ">>> print(thisdict)\n",
    "{'brand': 'Ford', 'year': 1964}\n",
    "```"
   ]
  },
  {
   "cell_type": "markdown",
   "id": "f42764ac-fd14-4382-b9d5-e82826d609a1",
   "metadata": {},
   "source": [
    "The `popitem()` method removes the last inserted item (in versions before 3.7, a random item is removed instead).\n",
    "```python\n",
    ">>> thisdict =  {\n",
    ">>>   \"brand\": \"Ford\",\n",
    ">>>   \"model\": \"Mustang\",\n",
    ">>>   \"year\": 1964\n",
    ">>> }\n",
    ">>> thisdict.popitem()\n",
    ">>> print(thisdict)\n",
    "{'brand': 'Ford', 'model': 'Mustang'}\n",
    "```"
   ]
  },
  {
   "cell_type": "markdown",
   "id": "a8b27577-b05b-4852-840b-7210295e4fd3",
   "metadata": {},
   "source": [
    "The `del` keyword can also delete the dictionary completely.\n",
    "The `clear()` method empties the dictionary."
   ]
  },
  {
   "cell_type": "markdown",
   "id": "26f8bdff-d52d-40ba-b057-39894295b516",
   "metadata": {},
   "source": [
    "- You can loop through a dictionary by using a `for` loop.\n",
    "\n",
    "1. Print all key names in the dictionary, one by one:\n",
    "```python\n",
    ">>> for x in thisdict:\n",
    ">>>   print(x)\n",
    "```\n",
    "2. Print all values in the dictionary, one by one:\n",
    "```python\n",
    ">>> for x in thisdict:\n",
    ">>>   print(thisdict[x])\n",
    "```\n",
    "3. You can also use the `values()` method to return values of a dictionary:\n",
    "```python\n",
    ">>> for x in thisdict.values():\n",
    ">>>   print(x)\n",
    "```\n",
    "4. You can use the `keys()` method to return the keys of a dictionary:\n",
    "```python\n",
    ">>> for x in thisdict.keys():\n",
    ">>>   print(x)\n",
    "```\n",
    "5. Loop through both keys and values, by using the `items()` method:\n",
    "```python\n",
    ">>> for x, y in thisdict.items():\n",
    ">>>   print(x, y)\n",
    "```"
   ]
  },
  {
   "cell_type": "markdown",
   "id": "b2b38efe-32a1-4e09-87f1-a81ff4659b34",
   "metadata": {},
   "source": [
    "- Nested Dictionaries\n",
    "\n",
    "A dictionary can contain dictionaries, this is called nested dictionaries.\n",
    "```python\n",
    ">>> myfamily = {\n",
    ">>>   \"child1\" : {\n",
    ">>>     \"name\" : \"Emil\",\n",
    ">>>     \"year\" : 2004\n",
    ">>>   },\n",
    ">>>   \"child2\" : {\n",
    ">>>     \"name\" : \"Tobias\",\n",
    ">>>     \"year\" : 2007\n",
    ">>>   }\n",
    ">>> }\n",
    "```"
   ]
  },
  {
   "cell_type": "markdown",
   "id": "5243820b-bebc-4f29-84ca-553f6593a4ba",
   "metadata": {},
   "source": [
    "- Dictionary Methods"
   ]
  },
  {
   "cell_type": "markdown",
   "id": "319d4aa8-3fc3-47a4-a8f1-eed5dc9b11ba",
   "metadata": {},
   "source": [
    "| Method |\tDescription\n",
    "| :- | :- |\n",
    "| clear() |\tRemoves all the elements from the dictionary |\n",
    "| copy() |\tReturns a copy of the dictionary |\n",
    "| fromkeys() |\tReturns a dictionary with the specified keys and value |\n",
    "| get() |\tReturns the value of the specified key |\n",
    "| items() |\tReturns a list containing a tuple for each key value pair |\n",
    "| keys() |\tReturns a list containing the dictionary's keys |\n",
    "| pop() |\tRemoves the element with the specified key |\n",
    "| popitem() |\tRemoves the last inserted key-value pair |\n",
    "| setdefault() |\tReturns the value of the specified key. If the key does not exist: insert the key, with the specified value |\n",
    "| update() |\tUpdates the dictionary with the specified key-value pairs |\n",
    "| values() |\tReturns a list of all the values in the dictionary |"
   ]
  },
  {
   "cell_type": "markdown",
   "id": "92c93e3a-9362-43f1-9de5-2a7034ac54a1",
   "metadata": {},
   "source": [
    "## Python Conditions and If statements"
   ]
  },
  {
   "cell_type": "markdown",
   "id": "aef76d47-9fe4-4634-ab40-92354f3649a7",
   "metadata": {},
   "source": [
    "Python supports the usual logical conditions from mathematics:\n",
    "- Equals: `a == b`\n",
    "- Not Equals: `a != b`\n",
    "- Less than: `a < b`\n",
    "- Less than or equal to: `a <= b`\n",
    "- Greater than: `a > b`\n",
    "- Greater than or equal to: `a >= b`\n",
    "\n",
    "These conditions can be used in several ways, most commonly in \"if statements\" and loops.\n",
    "An \"if statement\" is written by using the if keyword.\n",
    "```python\n",
    ">>> a = 33\n",
    ">>> b = 200\n",
    ">>> if b > a:\n",
    ">>>   print(\"b is greater than a\")\n",
    "b is greater than a\n",
    "```"
   ]
  },
  {
   "cell_type": "markdown",
   "id": "d8bab9d0-f25f-45d4-8425-28969a0ea244",
   "metadata": {},
   "source": [
    "- Elif\n",
    "\n",
    "The `elif` keyword is Python's way of saying \"if the previous conditions were not true, then try this condition\".\n",
    "```python\n",
    ">>> a = 33\n",
    ">>> b = 33\n",
    ">>> if b > a:\n",
    ">>>   print(\"b is greater than a\")\n",
    ">>> elif a == b:\n",
    ">>>   print(\"a and b are equal\")\n",
    "a and b are equal\n",
    "```"
   ]
  },
  {
   "cell_type": "markdown",
   "id": "eb2a05b8-d3fe-4baa-bbd7-5897416cdb13",
   "metadata": {},
   "source": [
    "- Else\n",
    "\n",
    "The `else` keyword catches anything which isn't caught by the preceding conditions.\n",
    "```python\n",
    ">>> a = 200\n",
    ">>> b = 33\n",
    ">>> if b > a:\n",
    ">>>   print(\"b is greater than a\")\n",
    ">>> elif a == b:\n",
    ">>>   print(\"a and b are equal\")\n",
    ">>> else:\n",
    ">>>   print(\"a is greater than b\")\n",
    "a is greater than b\n",
    "```"
   ]
  },
  {
   "cell_type": "markdown",
   "id": "9313016f-7c7e-4b6d-bd73-f0ea9fdccce1",
   "metadata": {},
   "source": [
    "- And\n",
    "\n",
    "The `and` keyword is a logical operator, and is used to combine conditional statements.\n",
    "```python\n",
    ">>> a = 200\n",
    ">>> b = 33\n",
    ">>> c = 500\n",
    ">>> if a > b and c > a:\n",
    ">>>   print(\"Both conditions are True\")\n",
    "Both conditions are True\n",
    "```"
   ]
  },
  {
   "cell_type": "markdown",
   "id": "083c0169-adbd-4f6e-b579-c7a5e0840048",
   "metadata": {},
   "source": [
    "- Or\n",
    "\n",
    "The `or` keyword is a logical operator, and is used to combine conditional statements.\n",
    "```python\n",
    ">>> a = 200\n",
    ">>> b = 33\n",
    ">>> c = 500\n",
    ">>> if a > b or a > c:\n",
    ">>>   print(\"At least one of the conditions is True\")\n",
    "At least one of the conditions is True\n",
    "```"
   ]
  },
  {
   "cell_type": "markdown",
   "id": "44a11963-049a-4fa7-b5d9-f4fbc7efa08e",
   "metadata": {},
   "source": [
    "- Not\n",
    "\n",
    "he `not` keyword is a logical operator, and is used to reverse the result of the conditional statement.\n",
    "```python\n",
    ">>> a = 33\n",
    ">>> b = 200\n",
    ">>> if not a > b:\n",
    ">>>   print(\"a is NOT greater than b\")\n",
    "a is NOT greater than b\n",
    "```"
   ]
  },
  {
   "cell_type": "markdown",
   "id": "c569b5d7-f180-4a44-825d-f35281ce5278",
   "metadata": {},
   "source": [
    "- Nested If\n",
    "\n",
    "You can have if statements inside if statements, this is called nested if statements.\n",
    "```python\n",
    ">>> x = 41\n",
    ">>> if x > 10:\n",
    ">>>   print(\"Above ten,\")\n",
    ">>>   if x > 20:\n",
    ">>>     print(\"and also above 20!\")\n",
    ">>>   else:\n",
    ">>>     print(\"but not above 20.\")\n",
    "Above ten,\n",
    "and also above 20!\n",
    "```"
   ]
  },
  {
   "cell_type": "markdown",
   "id": "f328bee1-56ed-443a-97ab-7a104ddc2c81",
   "metadata": {},
   "source": [
    "- The pass Statement\n",
    "\n",
    "if statements cannot be empty, but if you for some reason have an if statement with no content, put in the `pass` statement to avoid getting an error.\n",
    "```python\n",
    ">>> a = 33\n",
    ">>> b = 200\n",
    ">>> if b > a:\n",
    ">>>   pass\n",
    "\n",
    "# having an empty if statement like this, would raise an error without the pass statement\n",
    "```"
   ]
  },
  {
   "cell_type": "markdown",
   "id": "aa33f2ca-b5af-4277-9481-30dfda41431a",
   "metadata": {},
   "source": [
    "## Python Loops"
   ]
  },
  {
   "cell_type": "markdown",
   "id": "802867f0-6905-44a9-8f4d-d40e29da9ed4",
   "metadata": {},
   "source": [
    "- Python Loops\n",
    "  \n",
    "Python has two primitive loop commands:\n",
    "\n",
    "- `while` loops\n",
    "- `for` loops"
   ]
  },
  {
   "cell_type": "markdown",
   "id": "403f677d-a375-4538-9d9f-6be1104964ac",
   "metadata": {},
   "source": [
    "1. **The while Loop**"
   ]
  },
  {
   "cell_type": "markdown",
   "id": "3e854452-28f9-47ab-950c-5150b5c19353",
   "metadata": {},
   "source": [
    "With the while loop we can execute a set of statements as long as a condition is `true`.\n",
    "```python\n",
    ">>> i = 1\n",
    ">>> while i < 6:\n",
    ">>>   print(i)\n",
    ">>>   i += 1\n",
    "1\n",
    "2\n",
    "3\n",
    "4\n",
    "5\n",
    "```\n",
    "The while loop requires relevant variables to be ready, in this example we need to define an indexing variable, i, which we set to 1."
   ]
  },
  {
   "cell_type": "markdown",
   "id": "ede11b31-7415-428e-969d-6879513b249e",
   "metadata": {},
   "source": [
    "- The break Statement\n",
    "\n",
    "With the `break` statement we can stop the loop even if the while condition is true.\n",
    "```python\n",
    ">>> i = 1\n",
    ">>> while i < 6:\n",
    ">>>   print(i)\n",
    ">>>   if (i == 3):\n",
    ">>>     break\n",
    ">>>   i += 1\n",
    "1\n",
    "2\n",
    "3\n",
    "```"
   ]
  },
  {
   "cell_type": "markdown",
   "id": "2173d118-1dbe-450c-8919-4621f0aa27a3",
   "metadata": {},
   "source": [
    "- The continue Statement\n",
    "\n",
    "With the `continue` statement we can stop the current iteration, and continue with the next.\n",
    "```python\n",
    ">>> i = 0\n",
    ">>> while i < 6:\n",
    ">>>   i += 1\n",
    ">>>   if i == 3:\n",
    ">>>     continue\n",
    ">>>   print(i)\n",
    "# Note that number 3 is missing in the result\n",
    "1\n",
    "2\n",
    "4\n",
    "5\n",
    "6\n",
    "```"
   ]
  },
  {
   "cell_type": "markdown",
   "id": "a8283cee-cf50-4984-8448-284ce7c2e840",
   "metadata": {},
   "source": [
    "- The else Statement\n",
    "\n",
    "With the `else` statement we can run a block of code once when the condition no longer is true.\n",
    "```python\n",
    ">>> i = 1\n",
    ">>> while i < 6:\n",
    ">>>   print(i)\n",
    ">>>   i += 1\n",
    ">>> else:\n",
    ">>>   print(\"i is no longer less than 6\")\n",
    "1\n",
    "2\n",
    "3\n",
    "4\n",
    "5\n",
    "i is no longer less than 6\n",
    "```"
   ]
  },
  {
   "cell_type": "markdown",
   "id": "ca06a5a3-0218-41d7-abce-f052ff3336b2",
   "metadata": {},
   "source": [
    "2. **The for loop**"
   ]
  },
  {
   "cell_type": "markdown",
   "id": "d28d6593-0aa9-4a45-a214-99dd5b236275",
   "metadata": {},
   "source": [
    "A `for` loop is used for iterating over a sequence (that is either a list, a tuple, a dictionary, a set, or a string).\n",
    "\n",
    "This is less like the for keyword in other programming languages, and works more like an iterator method as found in other object-orientated programming languages.\n",
    "\n",
    "With the for loop we can execute a set of statements, once for each item in a list, tuple, set etc."
   ]
  },
  {
   "cell_type": "markdown",
   "id": "a0918856-0d26-44a2-b5d2-b90d695a32d2",
   "metadata": {},
   "source": [
    "- The break Statement\n",
    "\n",
    "With the `break` statement we can stop the loop before it has looped through all the items.\n",
    "```python\n",
    ">>> li = [1, 2, 3, 4, 5, 6]\n",
    ">>> for i in li:\n",
    ">>>   print(i)\n",
    ">>>   if i == 4:\n",
    ">>>     break\n",
    "1\n",
    "2\n",
    "3\n",
    "4\n",
    "```"
   ]
  },
  {
   "cell_type": "markdown",
   "id": "e8c45684-1c73-4f63-bd6d-5b2a2f6ff3de",
   "metadata": {},
   "source": [
    "- The continue Statement\n",
    "\n",
    "With the `continue` statement we can stop the current iteration of the loop, and continue with the next.\n",
    "```python\n",
    ">>> li = [1, 2, 3, 4, 5, 6]\n",
    ">>> for i in li:\n",
    ">>>   if i == 4:\n",
    ">>>     continue\n",
    ">>>   print(i)\n",
    "1\n",
    "2\n",
    "3\n",
    "5\n",
    "6\n",
    "```"
   ]
  },
  {
   "cell_type": "markdown",
   "id": "56a1466e-711b-42a5-b9d7-2d4d34c0a3b5",
   "metadata": {},
   "source": [
    "- The range() Function\n",
    "\n",
    "To loop through a set of code a specified number of times, we can use the `range()` function,\n",
    "The range() function returns a sequence of numbers, starting from 0 by default, and increments by 1 (by default), and ends at a specified number.\n",
    "```python\n",
    ">>> for x in range(6):\n",
    ">>>   print(x) \n",
    "0\n",
    "1\n",
    "2\n",
    "3\n",
    "4\n",
    "5\n",
    "```\n",
    "- `range(6)` is not the values of 0 to 6, but the values 0 to 5.\n",
    "```python\n",
    ">>> for x in range(2, 20, 3):\n",
    ">>>   print(x)\n",
    "2\n",
    "5\n",
    "8\n",
    "11\n",
    "14\n",
    "17\n",
    "```"
   ]
  },
  {
   "cell_type": "markdown",
   "id": "b422d695-d3b4-4fae-9af8-77c9dc6e0dfa",
   "metadata": {},
   "source": [
    "- Else in For Loop\n",
    "\n",
    "The `else` keyword in a for loop specifies a block of code to be executed when the loop is finished.\n",
    "```python\n",
    ">>> for x in range(6):\n",
    ">>>   print(x)\n",
    ">>> else:\n",
    ">>>   print(\"Finally finished!\")\n",
    "0\n",
    "1\n",
    "2\n",
    "3\n",
    "4\n",
    "5\n",
    "Finally finished!\n",
    "```"
   ]
  },
  {
   "cell_type": "markdown",
   "id": "dd867a0d-4b3b-4f7c-90c3-a9f2d3c61170",
   "metadata": {},
   "source": [
    "- Nested Loops\n",
    "\n",
    "A `nested loop` is a loop inside a loop.\n",
    "The \"inner loop\" will be executed one time for each iteration of the \"outer loop\".\n",
    "```python\n",
    ">>> adj = [\"red\", \"big\"]\n",
    ">>> fruits = [\"apple\", \"banana\"]\n",
    ">>> for x in adj:\n",
    ">>>   for y in fruits:\n",
    ">>>     print(x, y)\n",
    "red apple\n",
    "red banana\n",
    "big apple\n",
    "big banana\n",
    "```"
   ]
  },
  {
   "cell_type": "markdown",
   "id": "b927bfbc-a4d3-4341-a05e-35ac05238a29",
   "metadata": {},
   "source": [
    "- The pass Statement\n",
    "\n",
    "for loops cannot be empty, but if you for some reason have a for loop with no content, put in the `pass` statement to avoid getting an error.\n",
    "```python\n",
    ">>> for x in [0, 1, 2]:\n",
    ">>>   pass\n",
    "\n",
    "# having an empty for loop like this, would raise an error without the pass statement\n",
    "```"
   ]
  },
  {
   "cell_type": "markdown",
   "id": "0edc10d2-c538-46b9-b634-c33fb23b6546",
   "metadata": {},
   "source": [
    "## Python Functions"
   ]
  },
  {
   "cell_type": "markdown",
   "id": "1e4efafb-326e-43ac-b8e0-33e6db823d2b",
   "metadata": {},
   "source": [
    "A `function` is a block of code which only runs when it is called.\n",
    "You can pass data, known as parameters, into a function.\n",
    "A function can `return` data as a result.\n",
    "\n"
   ]
  },
  {
   "cell_type": "markdown",
   "id": "ab0c6fbc-a7d6-434c-8331-e9f4c4632f00",
   "metadata": {},
   "source": [
    "- Creating a Function\n",
    "\n",
    "In Python a function is defined using the `def` keyword.\n",
    "```python\n",
    ">>> def my_function():\n",
    ">>>   print(\"Hello from a function\")\n",
    "```"
   ]
  },
  {
   "cell_type": "markdown",
   "id": "effc01da-58b3-43a3-a7ae-6964b6849f17",
   "metadata": {},
   "source": [
    "- Calling a Function\n",
    "\n",
    "To call a function, use the function name followed by parenthesis.\n",
    "```python\n",
    ">>> def my_function():\n",
    ">>>   print(\"Hello from a function\")\n",
    ">>> my_function()  # call function\n",
    "Hello from a function\n",
    "```"
   ]
  },
  {
   "cell_type": "markdown",
   "id": "e128c5f0-d379-41ef-bc29-28891b6d177d",
   "metadata": {},
   "source": [
    "- Arguments\n",
    "\n",
    "Information can be passed into functions as arguments.\n",
    "`Arguments` are specified after the function name, inside the parentheses. You can add as many arguments as you want, just separate them with a comma.\n",
    "```python\n",
    ">>> def my_function(fname):\n",
    ">>>   print(fname + \" Refsnes\")\n",
    ">>> my_function(\"Emil\")\n",
    ">>> my_function(\"Tobias\")\n",
    ">>> my_function(\"Linus\")\n",
    "Emil Refsnes\n",
    "Tobias Refsnes\n",
    "Linus Refsne\n",
    "```"
   ]
  },
  {
   "cell_type": "markdown",
   "id": "651bff35-8aed-422d-b6e6-a27e4b4035ba",
   "metadata": {},
   "source": [
    "- Parameters or Arguments?\n",
    "\n",
    "The terms parameter and argument can be used for the same thing: information that are passed into a function.\n",
    "                                            \n",
    "From a function's perspective:\n",
    "- A parameter is the variable listed inside the parentheses in the function definition.\n",
    "- An argument is the value that is sent to the function when it is called."
   ]
  },
  {
   "cell_type": "markdown",
   "id": "68f01364-d12e-4dda-8f84-d6cebcd746bb",
   "metadata": {},
   "source": [
    "- Return Values\n",
    "\n",
    "To let a function `return` a value, use the return statement.\n",
    "```python\n",
    ">>> def my_function(x):\n",
    ">>>   return 5 * x\n",
    ">>> print(my_function(3))\n",
    ">>> print(my_function(5))\n",
    ">>> print(my_function(9))\n",
    "15\n",
    "25\n",
    "45\n",
    "```"
   ]
  },
  {
   "cell_type": "markdown",
   "id": "06a5e689-c3de-44c3-a3ee-08b5aa915c36",
   "metadata": {},
   "source": [
    "- The pass Statement\n",
    "\n",
    "function definitions cannot be empty, but if you for some reason have a function definition with no content, put in the `pass` statement to avoid getting an error.\n",
    "```python\n",
    ">>> def myfunction():\n",
    ">>>   pass\n",
    "\n",
    "# having an empty function definition like this, would raise an error without the pass statement\n",
    "```"
   ]
  },
  {
   "cell_type": "markdown",
   "id": "369eb874-3077-4037-aec7-9a703b5c4ed5",
   "metadata": {},
   "source": [
    "## Python Lambda"
   ]
  },
  {
   "cell_type": "markdown",
   "id": "542b0a10-57b8-457c-bf6e-0aed22b4cb1d",
   "metadata": {},
   "source": [
    "A `lambda` function is a small anonymous function.\n",
    "A lambda function can take any number of arguments, but can only have one expression.\n",
    "\n",
    "**syntax-->**\n",
    "`lambda arguments : expression`\n",
    "\n",
    "```python\n",
    ">>> x = lambda a: a + 10\n",
    ">>> print(x(5))\n",
    "15\n",
    "```"
   ]
  },
  {
   "cell_type": "markdown",
   "id": "1caea5b6-443d-42f0-be6c-afc7bbfdacd0",
   "metadata": {},
   "source": [
    "```python\n",
    ">>> def myfunc(n):\n",
    ">>>   return lambda a : a * n\n",
    ">>> mydoubler = myfunc(2)\n",
    ">>> print(mydoubler(11))\n",
    "22\n",
    "```"
   ]
  },
  {
   "cell_type": "markdown",
   "id": "246d02f8-c5fc-4afa-9c55-cc78bf31332c",
   "metadata": {},
   "source": [
    "## OOP(Object Oriented Programming)"
   ]
  },
  {
   "cell_type": "markdown",
   "id": "df71437f-ffd2-4fbe-82c0-c454fb58bd12",
   "metadata": {},
   "source": [
    "- Python Classes and Objects\n",
    "\n",
    "Python is an object oriented programming language.\n",
    "Almost everything in Python is an object, with its properties and methods.\n",
    "A Class is like an object constructor, or a \"blueprint\" for creating objects."
   ]
  },
  {
   "cell_type": "markdown",
   "id": "98486a1d-8b53-4724-a36f-c53955e6b6cb",
   "metadata": {},
   "source": [
    "- Create a Class\n",
    "\n",
    "To create a class, use the keyword `class`.\n",
    "```python\n",
    ">>> class MyClass:\n",
    ">>>   x = 5\n",
    ">>> print(MyClass)\n",
    "<class '__main__.MyClass'>\n",
    "```"
   ]
  },
  {
   "cell_type": "markdown",
   "id": "844f1679-8102-4bf0-904e-3ee39add56ec",
   "metadata": {},
   "source": [
    "- Create Object\n",
    "\n",
    "Now we can use the class named MyClass to create `objects`.\n",
    "\n",
    "Create an `object` named `p1`, and print the value of x:\n",
    "```python\n",
    ">>> class MyClass:\n",
    ">>>   x = 5\n",
    ">>> p1 = MyClass()\n",
    ">>> print(p1.x)\n",
    "5\n",
    "```"
   ]
  },
  {
   "cell_type": "markdown",
   "id": "775a1fe9-0233-4480-8ebe-6a804a9e3a58",
   "metadata": {},
   "source": [
    "- The __init__() Function\n",
    "\n",
    "To understand the meaning of classes we have to understand the built-in `__init__()` function.\n",
    "All classes have a function called `__init__()`, which is always executed when the class is being initiated.\n",
    "Use the `__init__()` function to assign values to object properties, or other operations that are necessary to do when the object is being created.\n",
    "```python\n",
    ">>> class Person:\n",
    ">>>   def __init__(self, name, age):\n",
    ">>>     self.name = name\n",
    ">>>     self.age = age\n",
    ">>> p1 = Person(\"John\", 36)\n",
    ">>> print(p1.name)\n",
    ">>> print(p1.age)\n",
    "John\n",
    "36\n",
    "```\n",
    "**Note:** The `__init__()` function is called automatically every time the class is being used to create a new object."
   ]
  },
  {
   "cell_type": "markdown",
   "id": "e6e454ac-ce0a-4c67-a534-2fa12f36b0fe",
   "metadata": {},
   "source": [
    "- Object Methods\n",
    "\n",
    "Objects can also contain methods. Methods in objects are functions that belong to the object.\n",
    "```python\n",
    ">>> class Person:\n",
    ">>>   def __init__(self, name, age):\n",
    ">>>     self.name = name\n",
    ">>>     self.age = age\n",
    ">>>   def myfunc(self):\n",
    ">>>     print(\"Hello my name is \" + self.name)\n",
    ">>> p1 = Person(\"John\", 36)\n",
    ">>> p1.myfunc()\n",
    "Hello my name is John\n",
    "```"
   ]
  },
  {
   "cell_type": "markdown",
   "id": "ed4fcfec-6d16-4d91-9952-f3eb71e531ee",
   "metadata": {},
   "source": [
    "- The self Parameter\n",
    "\n",
    "The `self` parameter is a reference to the current instance of the class, and is used to access variables that belongs to the class.\n",
    "It does not have to be named self, you can call it whatever you like, but it has to be the first parameter of any function in the class.\n",
    "\n",
    "*The example is the same as the example above*\n",
    "\n"
   ]
  },
  {
   "cell_type": "markdown",
   "id": "9f0498f0-3518-45dc-bf7c-9d0c45903624",
   "metadata": {},
   "source": [
    "- The pass Statement\n",
    "\n",
    "class definitions cannot be empty, but if you for some reason have a class definition with no content, put in the `pass` statement to avoid getting an error.\n",
    "```python\n",
    ">>> class Person:\n",
    ">>>   pass\n",
    "\n",
    "# having an empty class definition like this, would raise an error without the pass statement\n",
    "```"
   ]
  },
  {
   "cell_type": "markdown",
   "id": "c636ab0f-9b51-49d5-95eb-4490d40377ab",
   "metadata": {},
   "source": [
    "## RegEx in Python"
   ]
  },
  {
   "cell_type": "markdown",
   "id": "64786e73-997a-4d2d-b766-2c25bf7ae2eb",
   "metadata": {},
   "source": [
    "Python has a built-in package called re, which can be used to work with Regular Expressions.\n",
    "Import the re module.\n",
    "\n",
    "`import re`"
   ]
  },
  {
   "cell_type": "markdown",
   "id": "88b41cbc-4ff7-4048-845a-097d28d88fd5",
   "metadata": {},
   "source": [
    "```python\n",
    ">>> import re\n",
    ">>> #Check if the string starts with \"The\" and ends with \"Spain\":\n",
    ">>> txt = \"The rain in Spain\"\n",
    ">>> x = re.search(\"^The.*Spain$\", txt)\n",
    ">>> if x:\n",
    ">>>    print(\"YES! We have a match!\")\n",
    ">>> else:\n",
    ">>>    print(\"No match\")\n",
    "YES! We have a match!\n",
    "```"
   ]
  },
  {
   "cell_type": "markdown",
   "id": "ce94f2f8-e629-4be0-b596-e5d297340428",
   "metadata": {},
   "source": [
    "- RegEx Functions\n",
    "\n",
    "The `re` module offers a set of functions that allows us to search a string for a match."
   ]
  },
  {
   "cell_type": "markdown",
   "id": "96bcf56f-5363-4574-81d0-baeb19b39d06",
   "metadata": {},
   "source": [
    "| Function | Description\n",
    "| :- | :- |\n",
    "| findall |\tReturns a list containing all matches |\n",
    "| search |\tReturns a Match object if there is a match anywhere in the string |\n",
    "| split |\tReturns a list where the string has been split at each match |\n",
    "| sub |\tReplaces one or many matches with a string |"
   ]
  },
  {
   "cell_type": "markdown",
   "id": "5a48f855-cf28-4255-afe3-e5b803bacd82",
   "metadata": {},
   "source": [
    "**GOOD LUCK**"
   ]
  },
  {
   "cell_type": "code",
   "execution_count": null,
   "id": "a99cfc56-2fde-4410-be3d-71b788081c69",
   "metadata": {},
   "outputs": [],
   "source": []
  }
 ],
 "metadata": {
  "kernelspec": {
   "display_name": "Python 3 (ipykernel)",
   "language": "python",
   "name": "python3"
  },
  "language_info": {
   "codemirror_mode": {
    "name": "ipython",
    "version": 3
   },
   "file_extension": ".py",
   "mimetype": "text/x-python",
   "name": "python",
   "nbconvert_exporter": "python",
   "pygments_lexer": "ipython3",
   "version": "3.11.2"
  }
 },
 "nbformat": 4,
 "nbformat_minor": 5
}
